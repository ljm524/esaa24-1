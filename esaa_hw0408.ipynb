{
  "cells": [
    {
      "cell_type": "markdown",
      "metadata": {
        "id": "view-in-github",
        "colab_type": "text"
      },
      "source": [
        "<a href=\"https://colab.research.google.com/github/ljm524/esaa24-1/blob/main/esaa_hw0408.ipynb\" target=\"_parent\"><img src=\"https://colab.research.google.com/assets/colab-badge.svg\" alt=\"Open In Colab\"/></a>"
      ]
    },
    {
      "cell_type": "markdown",
      "metadata": {
        "id": "eth_hHiLG4R0"
      },
      "source": [
        "# [개념정리]"
      ]
    },
    {
      "cell_type": "markdown",
      "metadata": {
        "id": "rq8rHalhG6mH"
      },
      "source": [
        "## CHAPTER 04 분류"
      ]
    },
    {
      "cell_type": "markdown",
      "metadata": {
        "id": "i9eqXu3QG4Ha"
      },
      "source": [
        "### 03 앙상블 학습\n",
        "\n",
        "\n",
        "*   앙상블 학습 개요 : 보팅(Voting), 배깅(Bagging), 부스팅(Boosting)\n",
        "*   보팅 유형 - 하드 보팅(Hard Voting)과 소프트 보팅(Soft Voting)\n",
        "*   보팅 분류기(Voting Classifier)\n",
        "\n"
      ]
    },
    {
      "cell_type": "markdown",
      "metadata": {
        "id": "Sr5uGqEvHRfa"
      },
      "source": [
        "### 04 랜덤 포레스트\n",
        "\n",
        "\n",
        "*   랜덤 포레스트의 개요 및 실습\n",
        "*   랜덤 포레스트 하이퍼 파라미터 및 튜닝\n",
        "\n"
      ]
    },
    {
      "cell_type": "markdown",
      "metadata": {
        "id": "0V5KJkdNHdvH"
      },
      "source": [
        "### 05 GBM(Gradient Boosting Machine)\n",
        "\n",
        "\n",
        "*   GBM의 개요 및 실습\n",
        "*   GBM 하이퍼 파라미터 및 튜닝\n",
        "\n"
      ]
    },
    {
      "cell_type": "markdown",
      "metadata": {
        "id": "SZaztxvzHpmy"
      },
      "source": [
        "### 06 XGBoost(eXtra Gradient Boost)\n",
        "\n",
        "\n",
        "*   XGBoost 개요\n",
        "*   XGBoost 설치하기\n",
        "*   파이썬 래퍼 XGBoost 하이퍼 파라미터\n",
        "*   파이썬 래퍼 XGBoost 적용 -위스콘신 유방암 예측\n",
        "*   사이킷런 래퍼 XGBoost의 개요 및 적용\n",
        "\n"
      ]
    },
    {
      "cell_type": "code",
      "execution_count": null,
      "metadata": {
        "colab": {
          "base_uri": "https://localhost:8080/",
          "height": 227
        },
        "id": "jwFO6vyMmeyA",
        "outputId": "d1355725-d285-475f-9613-f7ad531d0dad"
      },
      "outputs": [
        {
          "output_type": "execute_result",
          "data": {
            "text/plain": [
              "   mean radius  mean texture  mean perimeter  mean area  mean smoothness  \\\n",
              "0        17.99         10.38           122.8     1001.0          0.11840   \n",
              "1        20.57         17.77           132.9     1326.0          0.08474   \n",
              "2        19.69         21.25           130.0     1203.0          0.10960   \n",
              "\n",
              "   mean compactness  mean concavity  mean concave points  mean symmetry  \\\n",
              "0           0.27760          0.3001              0.14710         0.2419   \n",
              "1           0.07864          0.0869              0.07017         0.1812   \n",
              "2           0.15990          0.1974              0.12790         0.2069   \n",
              "\n",
              "   mean fractal dimension  ...  worst radius  worst texture  worst perimeter  \\\n",
              "0                 0.07871  ...         25.38          17.33            184.6   \n",
              "1                 0.05667  ...         24.99          23.41            158.8   \n",
              "2                 0.05999  ...         23.57          25.53            152.5   \n",
              "\n",
              "   worst area  worst smoothness  worst compactness  worst concavity  \\\n",
              "0      2019.0            0.1622             0.6656           0.7119   \n",
              "1      1956.0            0.1238             0.1866           0.2416   \n",
              "2      1709.0            0.1444             0.4245           0.4504   \n",
              "\n",
              "   worst concave points  worst symmetry  worst fractal dimension  \n",
              "0                0.2654          0.4601                  0.11890  \n",
              "1                0.1860          0.2750                  0.08902  \n",
              "2                0.2430          0.3613                  0.08758  \n",
              "\n",
              "[3 rows x 30 columns]"
            ],
            "text/html": [
              "\n",
              "  <div id=\"df-682cee10-eaf1-47d4-a958-11eb2694a1c3\" class=\"colab-df-container\">\n",
              "    <div>\n",
              "<style scoped>\n",
              "    .dataframe tbody tr th:only-of-type {\n",
              "        vertical-align: middle;\n",
              "    }\n",
              "\n",
              "    .dataframe tbody tr th {\n",
              "        vertical-align: top;\n",
              "    }\n",
              "\n",
              "    .dataframe thead th {\n",
              "        text-align: right;\n",
              "    }\n",
              "</style>\n",
              "<table border=\"1\" class=\"dataframe\">\n",
              "  <thead>\n",
              "    <tr style=\"text-align: right;\">\n",
              "      <th></th>\n",
              "      <th>mean radius</th>\n",
              "      <th>mean texture</th>\n",
              "      <th>mean perimeter</th>\n",
              "      <th>mean area</th>\n",
              "      <th>mean smoothness</th>\n",
              "      <th>mean compactness</th>\n",
              "      <th>mean concavity</th>\n",
              "      <th>mean concave points</th>\n",
              "      <th>mean symmetry</th>\n",
              "      <th>mean fractal dimension</th>\n",
              "      <th>...</th>\n",
              "      <th>worst radius</th>\n",
              "      <th>worst texture</th>\n",
              "      <th>worst perimeter</th>\n",
              "      <th>worst area</th>\n",
              "      <th>worst smoothness</th>\n",
              "      <th>worst compactness</th>\n",
              "      <th>worst concavity</th>\n",
              "      <th>worst concave points</th>\n",
              "      <th>worst symmetry</th>\n",
              "      <th>worst fractal dimension</th>\n",
              "    </tr>\n",
              "  </thead>\n",
              "  <tbody>\n",
              "    <tr>\n",
              "      <th>0</th>\n",
              "      <td>17.99</td>\n",
              "      <td>10.38</td>\n",
              "      <td>122.8</td>\n",
              "      <td>1001.0</td>\n",
              "      <td>0.11840</td>\n",
              "      <td>0.27760</td>\n",
              "      <td>0.3001</td>\n",
              "      <td>0.14710</td>\n",
              "      <td>0.2419</td>\n",
              "      <td>0.07871</td>\n",
              "      <td>...</td>\n",
              "      <td>25.38</td>\n",
              "      <td>17.33</td>\n",
              "      <td>184.6</td>\n",
              "      <td>2019.0</td>\n",
              "      <td>0.1622</td>\n",
              "      <td>0.6656</td>\n",
              "      <td>0.7119</td>\n",
              "      <td>0.2654</td>\n",
              "      <td>0.4601</td>\n",
              "      <td>0.11890</td>\n",
              "    </tr>\n",
              "    <tr>\n",
              "      <th>1</th>\n",
              "      <td>20.57</td>\n",
              "      <td>17.77</td>\n",
              "      <td>132.9</td>\n",
              "      <td>1326.0</td>\n",
              "      <td>0.08474</td>\n",
              "      <td>0.07864</td>\n",
              "      <td>0.0869</td>\n",
              "      <td>0.07017</td>\n",
              "      <td>0.1812</td>\n",
              "      <td>0.05667</td>\n",
              "      <td>...</td>\n",
              "      <td>24.99</td>\n",
              "      <td>23.41</td>\n",
              "      <td>158.8</td>\n",
              "      <td>1956.0</td>\n",
              "      <td>0.1238</td>\n",
              "      <td>0.1866</td>\n",
              "      <td>0.2416</td>\n",
              "      <td>0.1860</td>\n",
              "      <td>0.2750</td>\n",
              "      <td>0.08902</td>\n",
              "    </tr>\n",
              "    <tr>\n",
              "      <th>2</th>\n",
              "      <td>19.69</td>\n",
              "      <td>21.25</td>\n",
              "      <td>130.0</td>\n",
              "      <td>1203.0</td>\n",
              "      <td>0.10960</td>\n",
              "      <td>0.15990</td>\n",
              "      <td>0.1974</td>\n",
              "      <td>0.12790</td>\n",
              "      <td>0.2069</td>\n",
              "      <td>0.05999</td>\n",
              "      <td>...</td>\n",
              "      <td>23.57</td>\n",
              "      <td>25.53</td>\n",
              "      <td>152.5</td>\n",
              "      <td>1709.0</td>\n",
              "      <td>0.1444</td>\n",
              "      <td>0.4245</td>\n",
              "      <td>0.4504</td>\n",
              "      <td>0.2430</td>\n",
              "      <td>0.3613</td>\n",
              "      <td>0.08758</td>\n",
              "    </tr>\n",
              "  </tbody>\n",
              "</table>\n",
              "<p>3 rows × 30 columns</p>\n",
              "</div>\n",
              "    <div class=\"colab-df-buttons\">\n",
              "\n",
              "  <div class=\"colab-df-container\">\n",
              "    <button class=\"colab-df-convert\" onclick=\"convertToInteractive('df-682cee10-eaf1-47d4-a958-11eb2694a1c3')\"\n",
              "            title=\"Convert this dataframe to an interactive table.\"\n",
              "            style=\"display:none;\">\n",
              "\n",
              "  <svg xmlns=\"http://www.w3.org/2000/svg\" height=\"24px\" viewBox=\"0 -960 960 960\">\n",
              "    <path d=\"M120-120v-720h720v720H120Zm60-500h600v-160H180v160Zm220 220h160v-160H400v160Zm0 220h160v-160H400v160ZM180-400h160v-160H180v160Zm440 0h160v-160H620v160ZM180-180h160v-160H180v160Zm440 0h160v-160H620v160Z\"/>\n",
              "  </svg>\n",
              "    </button>\n",
              "\n",
              "  <style>\n",
              "    .colab-df-container {\n",
              "      display:flex;\n",
              "      gap: 12px;\n",
              "    }\n",
              "\n",
              "    .colab-df-convert {\n",
              "      background-color: #E8F0FE;\n",
              "      border: none;\n",
              "      border-radius: 50%;\n",
              "      cursor: pointer;\n",
              "      display: none;\n",
              "      fill: #1967D2;\n",
              "      height: 32px;\n",
              "      padding: 0 0 0 0;\n",
              "      width: 32px;\n",
              "    }\n",
              "\n",
              "    .colab-df-convert:hover {\n",
              "      background-color: #E2EBFA;\n",
              "      box-shadow: 0px 1px 2px rgba(60, 64, 67, 0.3), 0px 1px 3px 1px rgba(60, 64, 67, 0.15);\n",
              "      fill: #174EA6;\n",
              "    }\n",
              "\n",
              "    .colab-df-buttons div {\n",
              "      margin-bottom: 4px;\n",
              "    }\n",
              "\n",
              "    [theme=dark] .colab-df-convert {\n",
              "      background-color: #3B4455;\n",
              "      fill: #D2E3FC;\n",
              "    }\n",
              "\n",
              "    [theme=dark] .colab-df-convert:hover {\n",
              "      background-color: #434B5C;\n",
              "      box-shadow: 0px 1px 3px 1px rgba(0, 0, 0, 0.15);\n",
              "      filter: drop-shadow(0px 1px 2px rgba(0, 0, 0, 0.3));\n",
              "      fill: #FFFFFF;\n",
              "    }\n",
              "  </style>\n",
              "\n",
              "    <script>\n",
              "      const buttonEl =\n",
              "        document.querySelector('#df-682cee10-eaf1-47d4-a958-11eb2694a1c3 button.colab-df-convert');\n",
              "      buttonEl.style.display =\n",
              "        google.colab.kernel.accessAllowed ? 'block' : 'none';\n",
              "\n",
              "      async function convertToInteractive(key) {\n",
              "        const element = document.querySelector('#df-682cee10-eaf1-47d4-a958-11eb2694a1c3');\n",
              "        const dataTable =\n",
              "          await google.colab.kernel.invokeFunction('convertToInteractive',\n",
              "                                                    [key], {});\n",
              "        if (!dataTable) return;\n",
              "\n",
              "        const docLinkHtml = 'Like what you see? Visit the ' +\n",
              "          '<a target=\"_blank\" href=https://colab.research.google.com/notebooks/data_table.ipynb>data table notebook</a>'\n",
              "          + ' to learn more about interactive tables.';\n",
              "        element.innerHTML = '';\n",
              "        dataTable['output_type'] = 'display_data';\n",
              "        await google.colab.output.renderOutput(dataTable, element);\n",
              "        const docLink = document.createElement('div');\n",
              "        docLink.innerHTML = docLinkHtml;\n",
              "        element.appendChild(docLink);\n",
              "      }\n",
              "    </script>\n",
              "  </div>\n",
              "\n",
              "\n",
              "<div id=\"df-580d9517-c353-41f6-bd8e-531142e66fc2\">\n",
              "  <button class=\"colab-df-quickchart\" onclick=\"quickchart('df-580d9517-c353-41f6-bd8e-531142e66fc2')\"\n",
              "            title=\"Suggest charts\"\n",
              "            style=\"display:none;\">\n",
              "\n",
              "<svg xmlns=\"http://www.w3.org/2000/svg\" height=\"24px\"viewBox=\"0 0 24 24\"\n",
              "     width=\"24px\">\n",
              "    <g>\n",
              "        <path d=\"M19 3H5c-1.1 0-2 .9-2 2v14c0 1.1.9 2 2 2h14c1.1 0 2-.9 2-2V5c0-1.1-.9-2-2-2zM9 17H7v-7h2v7zm4 0h-2V7h2v10zm4 0h-2v-4h2v4z\"/>\n",
              "    </g>\n",
              "</svg>\n",
              "  </button>\n",
              "\n",
              "<style>\n",
              "  .colab-df-quickchart {\n",
              "      --bg-color: #E8F0FE;\n",
              "      --fill-color: #1967D2;\n",
              "      --hover-bg-color: #E2EBFA;\n",
              "      --hover-fill-color: #174EA6;\n",
              "      --disabled-fill-color: #AAA;\n",
              "      --disabled-bg-color: #DDD;\n",
              "  }\n",
              "\n",
              "  [theme=dark] .colab-df-quickchart {\n",
              "      --bg-color: #3B4455;\n",
              "      --fill-color: #D2E3FC;\n",
              "      --hover-bg-color: #434B5C;\n",
              "      --hover-fill-color: #FFFFFF;\n",
              "      --disabled-bg-color: #3B4455;\n",
              "      --disabled-fill-color: #666;\n",
              "  }\n",
              "\n",
              "  .colab-df-quickchart {\n",
              "    background-color: var(--bg-color);\n",
              "    border: none;\n",
              "    border-radius: 50%;\n",
              "    cursor: pointer;\n",
              "    display: none;\n",
              "    fill: var(--fill-color);\n",
              "    height: 32px;\n",
              "    padding: 0;\n",
              "    width: 32px;\n",
              "  }\n",
              "\n",
              "  .colab-df-quickchart:hover {\n",
              "    background-color: var(--hover-bg-color);\n",
              "    box-shadow: 0 1px 2px rgba(60, 64, 67, 0.3), 0 1px 3px 1px rgba(60, 64, 67, 0.15);\n",
              "    fill: var(--button-hover-fill-color);\n",
              "  }\n",
              "\n",
              "  .colab-df-quickchart-complete:disabled,\n",
              "  .colab-df-quickchart-complete:disabled:hover {\n",
              "    background-color: var(--disabled-bg-color);\n",
              "    fill: var(--disabled-fill-color);\n",
              "    box-shadow: none;\n",
              "  }\n",
              "\n",
              "  .colab-df-spinner {\n",
              "    border: 2px solid var(--fill-color);\n",
              "    border-color: transparent;\n",
              "    border-bottom-color: var(--fill-color);\n",
              "    animation:\n",
              "      spin 1s steps(1) infinite;\n",
              "  }\n",
              "\n",
              "  @keyframes spin {\n",
              "    0% {\n",
              "      border-color: transparent;\n",
              "      border-bottom-color: var(--fill-color);\n",
              "      border-left-color: var(--fill-color);\n",
              "    }\n",
              "    20% {\n",
              "      border-color: transparent;\n",
              "      border-left-color: var(--fill-color);\n",
              "      border-top-color: var(--fill-color);\n",
              "    }\n",
              "    30% {\n",
              "      border-color: transparent;\n",
              "      border-left-color: var(--fill-color);\n",
              "      border-top-color: var(--fill-color);\n",
              "      border-right-color: var(--fill-color);\n",
              "    }\n",
              "    40% {\n",
              "      border-color: transparent;\n",
              "      border-right-color: var(--fill-color);\n",
              "      border-top-color: var(--fill-color);\n",
              "    }\n",
              "    60% {\n",
              "      border-color: transparent;\n",
              "      border-right-color: var(--fill-color);\n",
              "    }\n",
              "    80% {\n",
              "      border-color: transparent;\n",
              "      border-right-color: var(--fill-color);\n",
              "      border-bottom-color: var(--fill-color);\n",
              "    }\n",
              "    90% {\n",
              "      border-color: transparent;\n",
              "      border-bottom-color: var(--fill-color);\n",
              "    }\n",
              "  }\n",
              "</style>\n",
              "\n",
              "  <script>\n",
              "    async function quickchart(key) {\n",
              "      const quickchartButtonEl =\n",
              "        document.querySelector('#' + key + ' button');\n",
              "      quickchartButtonEl.disabled = true;  // To prevent multiple clicks.\n",
              "      quickchartButtonEl.classList.add('colab-df-spinner');\n",
              "      try {\n",
              "        const charts = await google.colab.kernel.invokeFunction(\n",
              "            'suggestCharts', [key], {});\n",
              "      } catch (error) {\n",
              "        console.error('Error during call to suggestCharts:', error);\n",
              "      }\n",
              "      quickchartButtonEl.classList.remove('colab-df-spinner');\n",
              "      quickchartButtonEl.classList.add('colab-df-quickchart-complete');\n",
              "    }\n",
              "    (() => {\n",
              "      let quickchartButtonEl =\n",
              "        document.querySelector('#df-580d9517-c353-41f6-bd8e-531142e66fc2 button');\n",
              "      quickchartButtonEl.style.display =\n",
              "        google.colab.kernel.accessAllowed ? 'block' : 'none';\n",
              "    })();\n",
              "  </script>\n",
              "</div>\n",
              "\n",
              "    </div>\n",
              "  </div>\n"
            ],
            "application/vnd.google.colaboratory.intrinsic+json": {
              "type": "dataframe",
              "variable_name": "data_df"
            }
          },
          "metadata": {},
          "execution_count": 1
        }
      ],
      "source": [
        "import pandas as pd\n",
        "\n",
        "from sklearn.ensemble import VotingClassifier\n",
        "from sklearn.linear_model import LogisticRegression\n",
        "from sklearn.neighbors import KNeighborsClassifier\n",
        "from sklearn.datasets import load_breast_cancer\n",
        "from sklearn.model_selection import train_test_split\n",
        "from sklearn.metrics import accuracy_score\n",
        "\n",
        "cancer = load_breast_cancer()\n",
        "\n",
        "data_df = pd.DataFrame(cancer.data, columns=cancer.feature_names)\n",
        "data_df.head(3)"
      ]
    },
    {
      "cell_type": "code",
      "execution_count": null,
      "metadata": {
        "colab": {
          "base_uri": "https://localhost:8080/"
        },
        "id": "4XCN6na4m1uJ",
        "outputId": "b51789a3-23e6-49b8-e90b-b59f7a32f9ae"
      },
      "outputs": [
        {
          "output_type": "stream",
          "name": "stderr",
          "text": [
            "/usr/local/lib/python3.10/dist-packages/sklearn/linear_model/_logistic.py:458: ConvergenceWarning: lbfgs failed to converge (status=1):\n",
            "STOP: TOTAL NO. of ITERATIONS REACHED LIMIT.\n",
            "\n",
            "Increase the number of iterations (max_iter) or scale the data as shown in:\n",
            "    https://scikit-learn.org/stable/modules/preprocessing.html\n",
            "Please also refer to the documentation for alternative solver options:\n",
            "    https://scikit-learn.org/stable/modules/linear_model.html#logistic-regression\n",
            "  n_iter_i = _check_optimize_result(\n",
            "/usr/local/lib/python3.10/dist-packages/sklearn/linear_model/_logistic.py:458: ConvergenceWarning: lbfgs failed to converge (status=1):\n",
            "STOP: TOTAL NO. of ITERATIONS REACHED LIMIT.\n",
            "\n",
            "Increase the number of iterations (max_iter) or scale the data as shown in:\n",
            "    https://scikit-learn.org/stable/modules/preprocessing.html\n",
            "Please also refer to the documentation for alternative solver options:\n",
            "    https://scikit-learn.org/stable/modules/linear_model.html#logistic-regression\n",
            "  n_iter_i = _check_optimize_result(\n"
          ]
        },
        {
          "output_type": "stream",
          "name": "stdout",
          "text": [
            "Voting 분류기 정확도: 0.9474\n",
            "LogisticRegression 정확도: 0.9386\n",
            "KNeighborsClassifier 정확도: 0.9386\n"
          ]
        }
      ],
      "source": [
        "# 개별 모델은 로지스틱 회귀와 KNN 임.\n",
        "lr_clf = LogisticRegression()\n",
        "knn_clf = KNeighborsClassifier(n_neighbors=8)\n",
        "\n",
        "# 개별 모델을 소프트 보팅 기반의 앙상블 모델로 구현한 분류기\n",
        "vo_clf = VotingClassifier( estimators=[('LR',lr_clf),('KNN',knn_clf)] , voting='soft' )\n",
        "\n",
        "X_train, X_test, y_train, y_test = train_test_split(cancer.data, cancer.target,\n",
        "                                                    test_size=0.2 , random_state= 156)\n",
        "\n",
        "# VotingClassifier 학습/예측/평가.\n",
        "vo_clf.fit(X_train , y_train)\n",
        "pred = vo_clf.predict(X_test)\n",
        "print('Voting 분류기 정확도: {0:.4f}'.format(accuracy_score(y_test , pred)))\n",
        "\n",
        "# 개별 모델의 학습/예측/평가.\n",
        "classifiers = [lr_clf, knn_clf]\n",
        "for classifier in classifiers:\n",
        "    classifier.fit(X_train , y_train)\n",
        "    pred = classifier.predict(X_test)\n",
        "    class_name= classifier.__class__.__name__\n",
        "    print('{0} 정확도: {1:.4f}'.format(class_name, accuracy_score(y_test , pred)))"
      ]
    },
    {
      "cell_type": "code",
      "execution_count": null,
      "metadata": {
        "colab": {
          "base_uri": "https://localhost:8080/"
        },
        "id": "yeTlm0vDV1Vq",
        "outputId": "51a4c251-b53a-44cc-fe8c-287adac0a3d8"
      },
      "outputs": [
        {
          "output_type": "stream",
          "name": "stdout",
          "text": [
            "Mounted at /content/drive\n"
          ]
        }
      ],
      "source": [
        "from google.colab import drive\n",
        "drive.mount('/content/drive')"
      ]
    },
    {
      "cell_type": "code",
      "execution_count": null,
      "metadata": {
        "id": "DA3BBoyxm4NU"
      },
      "outputs": [],
      "source": [
        "def get_new_feature_name_df(old_feature_name_df):\n",
        "    feature_dup_df = pd.DataFrame(data=old_feature_name_df.groupby('column_name').cumcount(),\n",
        "                                  columns=['dup_cnt'])\n",
        "    feature_dup_df = feature_dup_df.reset_index()\n",
        "    new_feature_name_df = pd.merge(old_feature_name_df.reset_index(), feature_dup_df, how='outer')\n",
        "    new_feature_name_df['column_name'] = new_feature_name_df[['column_name', 'dup_cnt']].apply(lambda x : x[0]+'_'+str(x[1])\n",
        "                                                                                         if x[1] >0 else x[0] ,  axis=1)\n",
        "    new_feature_name_df = new_feature_name_df.drop(['index'], axis=1)\n",
        "    return new_feature_name_df\n",
        "\n",
        "def get_human_dataset( ):\n",
        "\n",
        "    # 각 데이터 파일들은 공백으로 분리되어 있으므로 read_csv에서 공백 문자를 sep으로 할당.\n",
        "    feature_name_df = pd.read_csv('/content/drive/MyDrive/ESAA/human_activity/features.txt',sep='\\s+',\n",
        "                        header=None,names=['column_index','column_name'])\n",
        "\n",
        "    # 중복된 피처명을 수정하는 get_new_feature_name_df()를 이용, 신규 피처명 DataFrame생성.\n",
        "    new_feature_name_df = get_new_feature_name_df(feature_name_df)\n",
        "\n",
        "    # DataFrame에 피처명을 컬럼으로 부여하기 위해 리스트 객체로 다시 변환\n",
        "    feature_name = new_feature_name_df.iloc[:, 1].values.tolist()\n",
        "\n",
        "    # 학습 피처 데이터 셋과 테스트 피처 데이터을 DataFrame으로 로딩. 컬럼명은 feature_name 적용\n",
        "    X_train = pd.read_csv('/content/drive/MyDrive/ESAA/human_activity/train/X_train.txt',sep='\\s+', names=feature_name )\n",
        "    X_test = pd.read_csv('/content/drive/MyDrive/ESAA/human_activity/test/X_test.txt',sep='\\s+', names=feature_name)\n",
        "\n",
        "    # 학습 레이블과 테스트 레이블 데이터을 DataFrame으로 로딩하고 컬럼명은 action으로 부여\n",
        "    y_train = pd.read_csv('/content/drive/MyDrive/ESAA/human_activity/train/y_train.txt',sep='\\s+',header=None,names=['action'])\n",
        "    y_test = pd.read_csv('/content/drive/MyDrive/ESAA/human_activity/test/y_test.txt',sep='\\s+',header=None,names=['action'])\n",
        "\n",
        "    # 로드된 학습/테스트용 DataFrame을 모두 반환\n",
        "    return X_train, X_test, y_train, y_test\n",
        "\n",
        "\n",
        "X_train, X_test, y_train, y_test = get_human_dataset()"
      ]
    },
    {
      "cell_type": "code",
      "execution_count": null,
      "metadata": {
        "colab": {
          "base_uri": "https://localhost:8080/"
        },
        "id": "tkajtu0Mm6kZ",
        "outputId": "5e23778d-66e8-4e59-c9ac-1b50e9502794"
      },
      "outputs": [
        {
          "output_type": "stream",
          "name": "stdout",
          "text": [
            "랜덤 포레스트 정확도: 0.9253\n"
          ]
        }
      ],
      "source": [
        "from sklearn.ensemble import RandomForestClassifier\n",
        "from sklearn.metrics import accuracy_score\n",
        "import pandas as pd\n",
        "import warnings\n",
        "warnings.filterwarnings('ignore')\n",
        "\n",
        "# 결정 트리에서 사용한 get_human_dataset( )을 이용해 학습/테스트용 DataFrame 반환\n",
        "X_train, X_test, y_train, y_test = get_human_dataset()\n",
        "\n",
        "# 랜덤 포레스트 학습 및 별도의 테스트 셋으로 예측 성능 평가\n",
        "rf_clf = RandomForestClassifier(random_state=0)\n",
        "rf_clf.fit(X_train , y_train)\n",
        "pred = rf_clf.predict(X_test)\n",
        "accuracy = accuracy_score(y_test , pred)\n",
        "print('랜덤 포레스트 정확도: {0:.4f}'.format(accuracy))"
      ]
    },
    {
      "cell_type": "code",
      "execution_count": null,
      "metadata": {
        "colab": {
          "base_uri": "https://localhost:8080/"
        },
        "id": "f9oqQgUUm9-F",
        "outputId": "a4978067-6c7f-424b-c15d-7e888b4927cd"
      },
      "outputs": [
        {
          "output_type": "stream",
          "name": "stdout",
          "text": [
            "최적 하이퍼 파라미터:\n",
            " {'max_depth': 10, 'min_samples_leaf': 8, 'min_samples_split': 8, 'n_estimators': 100}\n",
            "최고 예측 정확도: 0.9180\n"
          ]
        }
      ],
      "source": [
        "from sklearn.model_selection import GridSearchCV\n",
        "\n",
        "params = {\n",
        "    'n_estimators':[100],\n",
        "    'max_depth' : [6, 8, 10, 12],\n",
        "    'min_samples_leaf' : [8, 12, 18 ],\n",
        "    'min_samples_split' : [8, 16, 20]\n",
        "}\n",
        "# RandomForestClassifier 객체 생성 후 GridSearchCV 수행\n",
        "rf_clf = RandomForestClassifier(random_state=0, n_jobs=-1)\n",
        "grid_cv = GridSearchCV(rf_clf , param_grid=params , cv=2, n_jobs=-1 )\n",
        "grid_cv.fit(X_train , y_train)\n",
        "\n",
        "print('최적 하이퍼 파라미터:\\n', grid_cv.best_params_)\n",
        "print('최고 예측 정확도: {0:.4f}'.format(grid_cv.best_score_))"
      ]
    },
    {
      "cell_type": "code",
      "execution_count": null,
      "metadata": {
        "colab": {
          "base_uri": "https://localhost:8080/"
        },
        "id": "q7IEqFgCnAQv",
        "outputId": "07e56b91-cf86-4e6c-bba1-ef956473765e"
      },
      "outputs": [
        {
          "output_type": "stream",
          "name": "stdout",
          "text": [
            "예측 정확도: 0.9165\n"
          ]
        }
      ],
      "source": [
        "rf_clf1 = RandomForestClassifier(n_estimators=300, max_depth=10, min_samples_leaf=8, \\\n",
        "                                 min_samples_split=8, random_state=0)\n",
        "rf_clf1.fit(X_train , y_train)\n",
        "pred = rf_clf1.predict(X_test)\n",
        "print('예측 정확도: {0:.4f}'.format(accuracy_score(y_test , pred)))"
      ]
    },
    {
      "cell_type": "code",
      "execution_count": null,
      "metadata": {
        "colab": {
          "base_uri": "https://localhost:8080/",
          "height": 564
        },
        "id": "h6-dBUKrnCK6",
        "outputId": "6142e85e-b325-43bd-cd21-9faa0849acc8"
      },
      "outputs": [
        {
          "output_type": "display_data",
          "data": {
            "text/plain": [
              "<Figure size 800x600 with 1 Axes>"
            ],
            "image/png": "[encoded data removed]"
          },
          "metadata": {}
        }
      ],
      "source": [
        "import matplotlib.pyplot as plt\n",
        "import seaborn as sns\n",
        "%matplotlib inline\n",
        "\n",
        "ftr_importances_values = rf_clf1.feature_importances_\n",
        "ftr_importances = pd.Series(ftr_importances_values,index=X_train.columns  )\n",
        "ftr_top20 = ftr_importances.sort_values(ascending=False)[:20]\n",
        "\n",
        "plt.figure(figsize=(8,6))\n",
        "plt.title('Feature importances Top 20')\n",
        "sns.barplot(x=ftr_top20 , y = ftr_top20.index)\n",
        "plt.show()"
      ]
    },
    {
      "cell_type": "code",
      "execution_count": null,
      "metadata": {
        "colab": {
          "base_uri": "https://localhost:8080/"
        },
        "id": "UlfpgHtpnIKX",
        "outputId": "1cc01d5c-f0d6-4137-c657-967d380e64c2"
      },
      "outputs": [
        {
          "output_type": "stream",
          "name": "stdout",
          "text": [
            "GBM 정확도: 0.9386\n",
            "GBM 수행 시간: 981.4 초 \n"
          ]
        }
      ],
      "source": [
        "from sklearn.ensemble import GradientBoostingClassifier\n",
        "import time\n",
        "import warnings\n",
        "warnings.filterwarnings('ignore')\n",
        "\n",
        "X_train, X_test, y_train, y_test = get_human_dataset()\n",
        "\n",
        "# GBM 수행 시간 측정을 위함. 시작 시간 설정.\n",
        "start_time = time.time()\n",
        "\n",
        "gb_clf = GradientBoostingClassifier(random_state=0)\n",
        "gb_clf.fit(X_train , y_train)\n",
        "gb_pred = gb_clf.predict(X_test)\n",
        "gb_accuracy = accuracy_score(y_test, gb_pred)\n",
        "\n",
        "print('GBM 정확도: {0:.4f}'.format(gb_accuracy))\n",
        "print(\"GBM 수행 시간: {0:.1f} 초 \".format(time.time() - start_time))"
      ]
    },
    {
      "cell_type": "code",
      "execution_count": null,
      "metadata": {
        "colab": {
          "base_uri": "https://localhost:8080/"
        },
        "id": "bNuHSiOznKDj",
        "outputId": "eda2c5c8-6243-46b1-8fec-f9347b5d7c7d"
      },
      "outputs": [
        {
          "output_type": "stream",
          "name": "stdout",
          "text": [
            "Fitting 2 folds for each of 4 candidates, totalling 8 fits\n",
            "최적 하이퍼 파라미터:\n",
            " {'learning_rate': 0.05, 'n_estimators': 500}\n",
            "최고 예측 정확도: 0.9002\n"
          ]
        }
      ],
      "source": [
        "from sklearn.model_selection import GridSearchCV\n",
        "\n",
        "params = {\n",
        "    'n_estimators':[100, 500],\n",
        "    'learning_rate' : [ 0.05, 0.1]\n",
        "}\n",
        "grid_cv = GridSearchCV(gb_clf , param_grid=params , cv=2 ,verbose=1)\n",
        "grid_cv.fit(X_train , y_train)\n",
        "print('최적 하이퍼 파라미터:\\n', grid_cv.best_params_)\n",
        "print('최고 예측 정확도: {0:.4f}'.format(grid_cv.best_score_))"
      ]
    },
    {
      "cell_type": "code",
      "execution_count": null,
      "metadata": {
        "id": "UH5RWt5AnL2M",
        "colab": {
          "base_uri": "https://localhost:8080/"
        },
        "outputId": "406a0c24-8881-4ccd-fd17-cdb107ff2018"
      },
      "outputs": [
        {
          "output_type": "stream",
          "name": "stdout",
          "text": [
            "GBM 정확도: 0.9393\n"
          ]
        }
      ],
      "source": [
        "# GridSearchCV를 이용하여 최적으로 학습된 estimator로 predict 수행.\n",
        "gb_pred = grid_cv.best_estimator_.predict(X_test)\n",
        "gb_accuracy = accuracy_score(y_test, gb_pred)\n",
        "print('GBM 정확도: {0:.4f}'.format(gb_accuracy))"
      ]
    },
    {
      "cell_type": "code",
      "execution_count": null,
      "metadata": {
        "id": "9rqR4Ws-p-MI",
        "colab": {
          "base_uri": "https://localhost:8080/"
        },
        "outputId": "6d0c4962-2f89-4e53-8510-5ea36c23202e"
      },
      "outputs": [
        {
          "output_type": "stream",
          "name": "stdout",
          "text": [
            "2.0.3\n"
          ]
        }
      ],
      "source": [
        "import xgboost\n",
        "\n",
        "print(xgboost.__version__)"
      ]
    },
    {
      "cell_type": "code",
      "execution_count": null,
      "metadata": {
        "id": "NvUiER4hqA4T",
        "colab": {
          "base_uri": "https://localhost:8080/",
          "height": 227
        },
        "outputId": "b63ad216-46d5-486a-8022-247196939b73"
      },
      "outputs": [
        {
          "output_type": "execute_result",
          "data": {
            "text/plain": [
              "   mean radius  mean texture  mean perimeter  mean area  mean smoothness  \\\n",
              "0        17.99         10.38           122.8     1001.0          0.11840   \n",
              "1        20.57         17.77           132.9     1326.0          0.08474   \n",
              "2        19.69         21.25           130.0     1203.0          0.10960   \n",
              "\n",
              "   mean compactness  mean concavity  mean concave points  mean symmetry  \\\n",
              "0           0.27760          0.3001              0.14710         0.2419   \n",
              "1           0.07864          0.0869              0.07017         0.1812   \n",
              "2           0.15990          0.1974              0.12790         0.2069   \n",
              "\n",
              "   mean fractal dimension  ...  worst texture  worst perimeter  worst area  \\\n",
              "0                 0.07871  ...          17.33            184.6      2019.0   \n",
              "1                 0.05667  ...          23.41            158.8      1956.0   \n",
              "2                 0.05999  ...          25.53            152.5      1709.0   \n",
              "\n",
              "   worst smoothness  worst compactness  worst concavity  worst concave points  \\\n",
              "0            0.1622             0.6656           0.7119                0.2654   \n",
              "1            0.1238             0.1866           0.2416                0.1860   \n",
              "2            0.1444             0.4245           0.4504                0.2430   \n",
              "\n",
              "   worst symmetry  worst fractal dimension  target  \n",
              "0          0.4601                  0.11890       0  \n",
              "1          0.2750                  0.08902       0  \n",
              "2          0.3613                  0.08758       0  \n",
              "\n",
              "[3 rows x 31 columns]"
            ],
            "text/html": [
              "\n",
              "  <div id=\"df-75a1981e-530a-4b96-b9ce-c9d1614f144e\" class=\"colab-df-container\">\n",
              "    <div>\n",
              "<style scoped>\n",
              "    .dataframe tbody tr th:only-of-type {\n",
              "        vertical-align: middle;\n",
              "    }\n",
              "\n",
              "    .dataframe tbody tr th {\n",
              "        vertical-align: top;\n",
              "    }\n",
              "\n",
              "    .dataframe thead th {\n",
              "        text-align: right;\n",
              "    }\n",
              "</style>\n",
              "<table border=\"1\" class=\"dataframe\">\n",
              "  <thead>\n",
              "    <tr style=\"text-align: right;\">\n",
              "      <th></th>\n",
              "      <th>mean radius</th>\n",
              "      <th>mean texture</th>\n",
              "      <th>mean perimeter</th>\n",
              "      <th>mean area</th>\n",
              "      <th>mean smoothness</th>\n",
              "      <th>mean compactness</th>\n",
              "      <th>mean concavity</th>\n",
              "      <th>mean concave points</th>\n",
              "      <th>mean symmetry</th>\n",
              "      <th>mean fractal dimension</th>\n",
              "      <th>...</th>\n",
              "      <th>worst texture</th>\n",
              "      <th>worst perimeter</th>\n",
              "      <th>worst area</th>\n",
              "      <th>worst smoothness</th>\n",
              "      <th>worst compactness</th>\n",
              "      <th>worst concavity</th>\n",
              "      <th>worst concave points</th>\n",
              "      <th>worst symmetry</th>\n",
              "      <th>worst fractal dimension</th>\n",
              "      <th>target</th>\n",
              "    </tr>\n",
              "  </thead>\n",
              "  <tbody>\n",
              "    <tr>\n",
              "      <th>0</th>\n",
              "      <td>17.99</td>\n",
              "      <td>10.38</td>\n",
              "      <td>122.8</td>\n",
              "      <td>1001.0</td>\n",
              "      <td>0.11840</td>\n",
              "      <td>0.27760</td>\n",
              "      <td>0.3001</td>\n",
              "      <td>0.14710</td>\n",
              "      <td>0.2419</td>\n",
              "      <td>0.07871</td>\n",
              "      <td>...</td>\n",
              "      <td>17.33</td>\n",
              "      <td>184.6</td>\n",
              "      <td>2019.0</td>\n",
              "      <td>0.1622</td>\n",
              "      <td>0.6656</td>\n",
              "      <td>0.7119</td>\n",
              "      <td>0.2654</td>\n",
              "      <td>0.4601</td>\n",
              "      <td>0.11890</td>\n",
              "      <td>0</td>\n",
              "    </tr>\n",
              "    <tr>\n",
              "      <th>1</th>\n",
              "      <td>20.57</td>\n",
              "      <td>17.77</td>\n",
              "      <td>132.9</td>\n",
              "      <td>1326.0</td>\n",
              "      <td>0.08474</td>\n",
              "      <td>0.07864</td>\n",
              "      <td>0.0869</td>\n",
              "      <td>0.07017</td>\n",
              "      <td>0.1812</td>\n",
              "      <td>0.05667</td>\n",
              "      <td>...</td>\n",
              "      <td>23.41</td>\n",
              "      <td>158.8</td>\n",
              "      <td>1956.0</td>\n",
              "      <td>0.1238</td>\n",
              "      <td>0.1866</td>\n",
              "      <td>0.2416</td>\n",
              "      <td>0.1860</td>\n",
              "      <td>0.2750</td>\n",
              "      <td>0.08902</td>\n",
              "      <td>0</td>\n",
              "    </tr>\n",
              "    <tr>\n",
              "      <th>2</th>\n",
              "      <td>19.69</td>\n",
              "      <td>21.25</td>\n",
              "      <td>130.0</td>\n",
              "      <td>1203.0</td>\n",
              "      <td>0.10960</td>\n",
              "      <td>0.15990</td>\n",
              "      <td>0.1974</td>\n",
              "      <td>0.12790</td>\n",
              "      <td>0.2069</td>\n",
              "      <td>0.05999</td>\n",
              "      <td>...</td>\n",
              "      <td>25.53</td>\n",
              "      <td>152.5</td>\n",
              "      <td>1709.0</td>\n",
              "      <td>0.1444</td>\n",
              "      <td>0.4245</td>\n",
              "      <td>0.4504</td>\n",
              "      <td>0.2430</td>\n",
              "      <td>0.3613</td>\n",
              "      <td>0.08758</td>\n",
              "      <td>0</td>\n",
              "    </tr>\n",
              "  </tbody>\n",
              "</table>\n",
              "<p>3 rows × 31 columns</p>\n",
              "</div>\n",
              "    <div class=\"colab-df-buttons\">\n",
              "\n",
              "  <div class=\"colab-df-container\">\n",
              "    <button class=\"colab-df-convert\" onclick=\"convertToInteractive('df-75a1981e-530a-4b96-b9ce-c9d1614f144e')\"\n",
              "            title=\"Convert this dataframe to an interactive table.\"\n",
              "            style=\"display:none;\">\n",
              "\n",
              "  <svg xmlns=\"http://www.w3.org/2000/svg\" height=\"24px\" viewBox=\"0 -960 960 960\">\n",
              "    <path d=\"M120-120v-720h720v720H120Zm60-500h600v-160H180v160Zm220 220h160v-160H400v160Zm0 220h160v-160H400v160ZM180-400h160v-160H180v160Zm440 0h160v-160H620v160ZM180-180h160v-160H180v160Zm440 0h160v-160H620v160Z\"/>\n",
              "  </svg>\n",
              "    </button>\n",
              "\n",
              "  <style>\n",
              "    .colab-df-container {\n",
              "      display:flex;\n",
              "      gap: 12px;\n",
              "    }\n",
              "\n",
              "    .colab-df-convert {\n",
              "      background-color: #E8F0FE;\n",
              "      border: none;\n",
              "      border-radius: 50%;\n",
              "      cursor: pointer;\n",
              "      display: none;\n",
              "      fill: #1967D2;\n",
              "      height: 32px;\n",
              "      padding: 0 0 0 0;\n",
              "      width: 32px;\n",
              "    }\n",
              "\n",
              "    .colab-df-convert:hover {\n",
              "      background-color: #E2EBFA;\n",
              "      box-shadow: 0px 1px 2px rgba(60, 64, 67, 0.3), 0px 1px 3px 1px rgba(60, 64, 67, 0.15);\n",
              "      fill: #174EA6;\n",
              "    }\n",
              "\n",
              "    .colab-df-buttons div {\n",
              "      margin-bottom: 4px;\n",
              "    }\n",
              "\n",
              "    [theme=dark] .colab-df-convert {\n",
              "      background-color: #3B4455;\n",
              "      fill: #D2E3FC;\n",
              "    }\n",
              "\n",
              "    [theme=dark] .colab-df-convert:hover {\n",
              "      background-color: #434B5C;\n",
              "      box-shadow: 0px 1px 3px 1px rgba(0, 0, 0, 0.15);\n",
              "      filter: drop-shadow(0px 1px 2px rgba(0, 0, 0, 0.3));\n",
              "      fill: #FFFFFF;\n",
              "    }\n",
              "  </style>\n",
              "\n",
              "    <script>\n",
              "      const buttonEl =\n",
              "        document.querySelector('#df-75a1981e-530a-4b96-b9ce-c9d1614f144e button.colab-df-convert');\n",
              "      buttonEl.style.display =\n",
              "        google.colab.kernel.accessAllowed ? 'block' : 'none';\n",
              "\n",
              "      async function convertToInteractive(key) {\n",
              "        const element = document.querySelector('#df-75a1981e-530a-4b96-b9ce-c9d1614f144e');\n",
              "        const dataTable =\n",
              "          await google.colab.kernel.invokeFunction('convertToInteractive',\n",
              "                                                    [key], {});\n",
              "        if (!dataTable) return;\n",
              "\n",
              "        const docLinkHtml = 'Like what you see? Visit the ' +\n",
              "          '<a target=\"_blank\" href=https://colab.research.google.com/notebooks/data_table.ipynb>data table notebook</a>'\n",
              "          + ' to learn more about interactive tables.';\n",
              "        element.innerHTML = '';\n",
              "        dataTable['output_type'] = 'display_data';\n",
              "        await google.colab.output.renderOutput(dataTable, element);\n",
              "        const docLink = document.createElement('div');\n",
              "        docLink.innerHTML = docLinkHtml;\n",
              "        element.appendChild(docLink);\n",
              "      }\n",
              "    </script>\n",
              "  </div>\n",
              "\n",
              "\n",
              "<div id=\"df-e2514607-d6d1-4ab6-a8ed-2e8397cbac85\">\n",
              "  <button class=\"colab-df-quickchart\" onclick=\"quickchart('df-e2514607-d6d1-4ab6-a8ed-2e8397cbac85')\"\n",
              "            title=\"Suggest charts\"\n",
              "            style=\"display:none;\">\n",
              "\n",
              "<svg xmlns=\"http://www.w3.org/2000/svg\" height=\"24px\"viewBox=\"0 0 24 24\"\n",
              "     width=\"24px\">\n",
              "    <g>\n",
              "        <path d=\"M19 3H5c-1.1 0-2 .9-2 2v14c0 1.1.9 2 2 2h14c1.1 0 2-.9 2-2V5c0-1.1-.9-2-2-2zM9 17H7v-7h2v7zm4 0h-2V7h2v10zm4 0h-2v-4h2v4z\"/>\n",
              "    </g>\n",
              "</svg>\n",
              "  </button>\n",
              "\n",
              "<style>\n",
              "  .colab-df-quickchart {\n",
              "      --bg-color: #E8F0FE;\n",
              "      --fill-color: #1967D2;\n",
              "      --hover-bg-color: #E2EBFA;\n",
              "      --hover-fill-color: #174EA6;\n",
              "      --disabled-fill-color: #AAA;\n",
              "      --disabled-bg-color: #DDD;\n",
              "  }\n",
              "\n",
              "  [theme=dark] .colab-df-quickchart {\n",
              "      --bg-color: #3B4455;\n",
              "      --fill-color: #D2E3FC;\n",
              "      --hover-bg-color: #434B5C;\n",
              "      --hover-fill-color: #FFFFFF;\n",
              "      --disabled-bg-color: #3B4455;\n",
              "      --disabled-fill-color: #666;\n",
              "  }\n",
              "\n",
              "  .colab-df-quickchart {\n",
              "    background-color: var(--bg-color);\n",
              "    border: none;\n",
              "    border-radius: 50%;\n",
              "    cursor: pointer;\n",
              "    display: none;\n",
              "    fill: var(--fill-color);\n",
              "    height: 32px;\n",
              "    padding: 0;\n",
              "    width: 32px;\n",
              "  }\n",
              "\n",
              "  .colab-df-quickchart:hover {\n",
              "    background-color: var(--hover-bg-color);\n",
              "    box-shadow: 0 1px 2px rgba(60, 64, 67, 0.3), 0 1px 3px 1px rgba(60, 64, 67, 0.15);\n",
              "    fill: var(--button-hover-fill-color);\n",
              "  }\n",
              "\n",
              "  .colab-df-quickchart-complete:disabled,\n",
              "  .colab-df-quickchart-complete:disabled:hover {\n",
              "    background-color: var(--disabled-bg-color);\n",
              "    fill: var(--disabled-fill-color);\n",
              "    box-shadow: none;\n",
              "  }\n",
              "\n",
              "  .colab-df-spinner {\n",
              "    border: 2px solid var(--fill-color);\n",
              "    border-color: transparent;\n",
              "    border-bottom-color: var(--fill-color);\n",
              "    animation:\n",
              "      spin 1s steps(1) infinite;\n",
              "  }\n",
              "\n",
              "  @keyframes spin {\n",
              "    0% {\n",
              "      border-color: transparent;\n",
              "      border-bottom-color: var(--fill-color);\n",
              "      border-left-color: var(--fill-color);\n",
              "    }\n",
              "    20% {\n",
              "      border-color: transparent;\n",
              "      border-left-color: var(--fill-color);\n",
              "      border-top-color: var(--fill-color);\n",
              "    }\n",
              "    30% {\n",
              "      border-color: transparent;\n",
              "      border-left-color: var(--fill-color);\n",
              "      border-top-color: var(--fill-color);\n",
              "      border-right-color: var(--fill-color);\n",
              "    }\n",
              "    40% {\n",
              "      border-color: transparent;\n",
              "      border-right-color: var(--fill-color);\n",
              "      border-top-color: var(--fill-color);\n",
              "    }\n",
              "    60% {\n",
              "      border-color: transparent;\n",
              "      border-right-color: var(--fill-color);\n",
              "    }\n",
              "    80% {\n",
              "      border-color: transparent;\n",
              "      border-right-color: var(--fill-color);\n",
              "      border-bottom-color: var(--fill-color);\n",
              "    }\n",
              "    90% {\n",
              "      border-color: transparent;\n",
              "      border-bottom-color: var(--fill-color);\n",
              "    }\n",
              "  }\n",
              "</style>\n",
              "\n",
              "  <script>\n",
              "    async function quickchart(key) {\n",
              "      const quickchartButtonEl =\n",
              "        document.querySelector('#' + key + ' button');\n",
              "      quickchartButtonEl.disabled = true;  // To prevent multiple clicks.\n",
              "      quickchartButtonEl.classList.add('colab-df-spinner');\n",
              "      try {\n",
              "        const charts = await google.colab.kernel.invokeFunction(\n",
              "            'suggestCharts', [key], {});\n",
              "      } catch (error) {\n",
              "        console.error('Error during call to suggestCharts:', error);\n",
              "      }\n",
              "      quickchartButtonEl.classList.remove('colab-df-spinner');\n",
              "      quickchartButtonEl.classList.add('colab-df-quickchart-complete');\n",
              "    }\n",
              "    (() => {\n",
              "      let quickchartButtonEl =\n",
              "        document.querySelector('#df-e2514607-d6d1-4ab6-a8ed-2e8397cbac85 button');\n",
              "      quickchartButtonEl.style.display =\n",
              "        google.colab.kernel.accessAllowed ? 'block' : 'none';\n",
              "    })();\n",
              "  </script>\n",
              "</div>\n",
              "\n",
              "    </div>\n",
              "  </div>\n"
            ],
            "application/vnd.google.colaboratory.intrinsic+json": {
              "type": "dataframe",
              "variable_name": "cancer_df"
            }
          },
          "metadata": {},
          "execution_count": 13
        }
      ],
      "source": [
        "import xgboost as xgb\n",
        "from xgboost import plot_importance\n",
        "import pandas as pd\n",
        "import numpy as np\n",
        "from sklearn.datasets import load_breast_cancer\n",
        "from sklearn.model_selection import train_test_split\n",
        "import warnings\n",
        "warnings.filterwarnings('ignore')\n",
        "\n",
        "dataset = load_breast_cancer()\n",
        "X_features= dataset.data\n",
        "y_label = dataset.target\n",
        "\n",
        "cancer_df = pd.DataFrame(data=X_features, columns=dataset.feature_names)\n",
        "cancer_df['target']= y_label\n",
        "cancer_df.head(3)"
      ]
    },
    {
      "cell_type": "code",
      "execution_count": null,
      "metadata": {
        "id": "HaPUBrOMqDXE",
        "colab": {
          "base_uri": "https://localhost:8080/"
        },
        "outputId": "bffe208f-195b-41ae-ea3d-d5add1a76945"
      },
      "outputs": [
        {
          "output_type": "stream",
          "name": "stdout",
          "text": [
            "['malignant' 'benign']\n",
            "target\n",
            "1    357\n",
            "0    212\n",
            "Name: count, dtype: int64\n"
          ]
        }
      ],
      "source": [
        "print(dataset.target_names)\n",
        "print(cancer_df['target'].value_counts())"
      ]
    },
    {
      "cell_type": "code",
      "execution_count": null,
      "metadata": {
        "id": "SlxNzUYoqLxy",
        "colab": {
          "base_uri": "https://localhost:8080/"
        },
        "outputId": "6cbe1625-fd59-4d63-bd01-efd90c7784c8"
      },
      "outputs": [
        {
          "output_type": "stream",
          "name": "stdout",
          "text": [
            "(455, 30) (114, 30)\n"
          ]
        }
      ],
      "source": [
        "# 전체 데이터 중 80%는 학습용 데이터, 20%는 테스트용 데이터 추출\n",
        "X_train, X_test, y_train, y_test=train_test_split(X_features, y_label,\n",
        "                                         test_size=0.2, random_state=156 )\n",
        "print(X_train.shape , X_test.shape)"
      ]
    },
    {
      "cell_type": "code",
      "execution_count": null,
      "metadata": {
        "id": "N_xpfKuSqS2-"
      },
      "outputs": [],
      "source": [
        "dtrain = xgb.DMatrix(data=X_train , label=y_train)\n",
        "dtest = xgb.DMatrix(data=X_test , label=y_test)"
      ]
    },
    {
      "cell_type": "code",
      "execution_count": null,
      "metadata": {
        "id": "F1r1Bg82qUvi"
      },
      "outputs": [],
      "source": [
        "params = { 'max_depth':3,\n",
        "           'eta': 0.1,\n",
        "           'objective':'binary:logistic',\n",
        "           'eval_metric':'logloss'\n",
        "        }\n",
        "num_rounds = 400"
      ]
    },
    {
      "cell_type": "code",
      "execution_count": null,
      "metadata": {
        "id": "fhkyiz53qWSM",
        "colab": {
          "base_uri": "https://localhost:8080/"
        },
        "outputId": "36de6372-921a-4954-92bf-f8cb5254bd4a"
      },
      "outputs": [
        {
          "output_type": "stream",
          "name": "stdout",
          "text": [
            "[0]\ttrain-logloss:0.58431\teval-logloss:0.56554\n",
            "[1]\ttrain-logloss:0.51885\teval-logloss:0.50669\n",
            "[2]\ttrain-logloss:0.46457\teval-logloss:0.45868\n",
            "[3]\ttrain-logloss:0.41713\teval-logloss:0.41822\n",
            "[4]\ttrain-logloss:0.37585\teval-logloss:0.38103\n",
            "[5]\ttrain-logloss:0.34075\teval-logloss:0.35137\n",
            "[6]\ttrain-logloss:0.31028\teval-logloss:0.32588\n",
            "[7]\ttrain-logloss:0.28283\teval-logloss:0.30127\n",
            "[8]\ttrain-logloss:0.25925\teval-logloss:0.28197\n",
            "[9]\ttrain-logloss:0.23822\teval-logloss:0.26265\n",
            "[10]\ttrain-logloss:0.21951\teval-logloss:0.24821\n",
            "[11]\ttrain-logloss:0.20251\teval-logloss:0.23231\n",
            "[12]\ttrain-logloss:0.18759\teval-logloss:0.22079\n",
            "[13]\ttrain-logloss:0.17386\teval-logloss:0.20795\n",
            "[14]\ttrain-logloss:0.16199\teval-logloss:0.19764\n",
            "[15]\ttrain-logloss:0.15109\teval-logloss:0.18950\n",
            "[16]\ttrain-logloss:0.14056\teval-logloss:0.18052\n",
            "[17]\ttrain-logloss:0.13137\teval-logloss:0.17246\n",
            "[18]\ttrain-logloss:0.12329\teval-logloss:0.16512\n",
            "[19]\ttrain-logloss:0.11565\teval-logloss:0.15828\n",
            "[20]\ttrain-logloss:0.10860\teval-logloss:0.15436\n",
            "[21]\ttrain-logloss:0.10190\teval-logloss:0.14633\n",
            "[22]\ttrain-logloss:0.09563\teval-logloss:0.13936\n",
            "[23]\ttrain-logloss:0.09016\teval-logloss:0.13393\n",
            "[24]\ttrain-logloss:0.08496\teval-logloss:0.13015\n",
            "[25]\ttrain-logloss:0.08021\teval-logloss:0.12489\n",
            "[26]\ttrain-logloss:0.07583\teval-logloss:0.12206\n",
            "[27]\ttrain-logloss:0.07215\teval-logloss:0.11890\n",
            "[28]\ttrain-logloss:0.06837\teval-logloss:0.11637\n",
            "[29]\ttrain-logloss:0.06489\teval-logloss:0.11293\n",
            "[30]\ttrain-logloss:0.06186\teval-logloss:0.11040\n",
            "[31]\ttrain-logloss:0.05924\teval-logloss:0.10826\n",
            "[32]\ttrain-logloss:0.05646\teval-logloss:0.10452\n",
            "[33]\ttrain-logloss:0.05394\teval-logloss:0.10322\n",
            "[34]\ttrain-logloss:0.05167\teval-logloss:0.10059\n",
            "[35]\ttrain-logloss:0.04951\teval-logloss:0.09869\n",
            "[36]\ttrain-logloss:0.04740\teval-logloss:0.09658\n",
            "[37]\ttrain-logloss:0.04554\teval-logloss:0.09487\n",
            "[38]\ttrain-logloss:0.04378\teval-logloss:0.09443\n",
            "[39]\ttrain-logloss:0.04226\teval-logloss:0.09374\n",
            "[40]\ttrain-logloss:0.04075\teval-logloss:0.09239\n",
            "[41]\ttrain-logloss:0.03890\teval-logloss:0.09159\n",
            "[42]\ttrain-logloss:0.03745\teval-logloss:0.09004\n",
            "[43]\ttrain-logloss:0.03608\teval-logloss:0.09029\n",
            "[44]\ttrain-logloss:0.03470\teval-logloss:0.08966\n",
            "[45]\ttrain-logloss:0.03354\teval-logloss:0.08808\n",
            "[46]\ttrain-logloss:0.03250\teval-logloss:0.08783\n",
            "[47]\ttrain-logloss:0.03142\teval-logloss:0.08756\n",
            "[48]\ttrain-logloss:0.03024\teval-logloss:0.08682\n",
            "[49]\ttrain-logloss:0.02905\teval-logloss:0.08829\n",
            "[50]\ttrain-logloss:0.02815\teval-logloss:0.08882\n",
            "[51]\ttrain-logloss:0.02729\teval-logloss:0.08871\n",
            "[52]\ttrain-logloss:0.02651\teval-logloss:0.08780\n",
            "[53]\ttrain-logloss:0.02574\teval-logloss:0.08766\n",
            "[54]\ttrain-logloss:0.02502\teval-logloss:0.08825\n",
            "[55]\ttrain-logloss:0.02433\teval-logloss:0.08882\n",
            "[56]\ttrain-logloss:0.02371\teval-logloss:0.08785\n",
            "[57]\ttrain-logloss:0.02312\teval-logloss:0.08813\n",
            "[58]\ttrain-logloss:0.02247\teval-logloss:0.08871\n",
            "[59]\ttrain-logloss:0.02186\teval-logloss:0.08760\n",
            "[60]\ttrain-logloss:0.02125\teval-logloss:0.08712\n",
            "[61]\ttrain-logloss:0.02075\teval-logloss:0.08795\n",
            "[62]\ttrain-logloss:0.02029\teval-logloss:0.08799\n",
            "[63]\ttrain-logloss:0.01974\teval-logloss:0.08808\n",
            "[64]\ttrain-logloss:0.01926\teval-logloss:0.08749\n",
            "[65]\ttrain-logloss:0.01879\teval-logloss:0.08760\n",
            "[66]\ttrain-logloss:0.01838\teval-logloss:0.08708\n",
            "[67]\ttrain-logloss:0.01812\teval-logloss:0.08668\n",
            "[68]\ttrain-logloss:0.01774\teval-logloss:0.08654\n",
            "[69]\ttrain-logloss:0.01741\teval-logloss:0.08630\n",
            "[70]\ttrain-logloss:0.01710\teval-logloss:0.08574\n",
            "[71]\ttrain-logloss:0.01676\teval-logloss:0.08696\n",
            "[72]\ttrain-logloss:0.01641\teval-logloss:0.08626\n",
            "[73]\ttrain-logloss:0.01609\teval-logloss:0.08685\n",
            "[74]\ttrain-logloss:0.01583\teval-logloss:0.08663\n",
            "[75]\ttrain-logloss:0.01550\teval-logloss:0.08780\n",
            "[76]\ttrain-logloss:0.01530\teval-logloss:0.08713\n",
            "[77]\ttrain-logloss:0.01502\teval-logloss:0.08822\n",
            "[78]\ttrain-logloss:0.01484\teval-logloss:0.08758\n",
            "[79]\ttrain-logloss:0.01465\teval-logloss:0.08728\n",
            "[80]\ttrain-logloss:0.01443\teval-logloss:0.08703\n",
            "[81]\ttrain-logloss:0.01422\teval-logloss:0.08719\n",
            "[82]\ttrain-logloss:0.01408\teval-logloss:0.08662\n",
            "[83]\ttrain-logloss:0.01391\teval-logloss:0.08637\n",
            "[84]\ttrain-logloss:0.01363\teval-logloss:0.08570\n",
            "[85]\ttrain-logloss:0.01344\teval-logloss:0.08590\n",
            "[86]\ttrain-logloss:0.01321\teval-logloss:0.08587\n",
            "[87]\ttrain-logloss:0.01307\teval-logloss:0.08614\n",
            "[88]\ttrain-logloss:0.01289\teval-logloss:0.08635\n",
            "[89]\ttrain-logloss:0.01273\teval-logloss:0.08646\n",
            "[90]\ttrain-logloss:0.01259\teval-logloss:0.08583\n",
            "[91]\ttrain-logloss:0.01240\teval-logloss:0.08583\n",
            "[92]\ttrain-logloss:0.01227\teval-logloss:0.08564\n",
            "[93]\ttrain-logloss:0.01207\teval-logloss:0.08669\n",
            "[94]\ttrain-logloss:0.01192\teval-logloss:0.08692\n",
            "[95]\ttrain-logloss:0.01180\teval-logloss:0.08687\n",
            "[96]\ttrain-logloss:0.01163\teval-logloss:0.08641\n",
            "[97]\ttrain-logloss:0.01153\teval-logloss:0.08584\n",
            "[98]\ttrain-logloss:0.01142\teval-logloss:0.08568\n",
            "[99]\ttrain-logloss:0.01130\teval-logloss:0.08552\n",
            "[100]\ttrain-logloss:0.01118\teval-logloss:0.08548\n",
            "[101]\ttrain-logloss:0.01102\teval-logloss:0.08630\n",
            "[102]\ttrain-logloss:0.01092\teval-logloss:0.08658\n",
            "[103]\ttrain-logloss:0.01081\teval-logloss:0.08656\n",
            "[104]\ttrain-logloss:0.01066\teval-logloss:0.08742\n",
            "[105]\ttrain-logloss:0.01053\teval-logloss:0.08779\n",
            "[106]\ttrain-logloss:0.01045\teval-logloss:0.08777\n",
            "[107]\ttrain-logloss:0.01032\teval-logloss:0.08738\n",
            "[108]\ttrain-logloss:0.01023\teval-logloss:0.08729\n",
            "[109]\ttrain-logloss:0.01015\teval-logloss:0.08736\n",
            "[110]\ttrain-logloss:0.01006\teval-logloss:0.08722\n",
            "[111]\ttrain-logloss:0.00998\teval-logloss:0.08774\n",
            "[112]\ttrain-logloss:0.00985\teval-logloss:0.08864\n",
            "[113]\ttrain-logloss:0.00978\teval-logloss:0.08871\n",
            "[114]\ttrain-logloss:0.00966\teval-logloss:0.08836\n",
            "[115]\ttrain-logloss:0.00958\teval-logloss:0.08865\n",
            "[116]\ttrain-logloss:0.00955\teval-logloss:0.08874\n",
            "[117]\ttrain-logloss:0.00947\teval-logloss:0.08861\n",
            "[118]\ttrain-logloss:0.00940\teval-logloss:0.08819\n",
            "[119]\ttrain-logloss:0.00930\teval-logloss:0.08901\n",
            "[120]\ttrain-logloss:0.00922\teval-logloss:0.08894\n",
            "[121]\ttrain-logloss:0.00917\teval-logloss:0.08869\n",
            "[122]\ttrain-logloss:0.00910\teval-logloss:0.08880\n",
            "[123]\ttrain-logloss:0.00900\teval-logloss:0.08848\n",
            "[124]\ttrain-logloss:0.00897\teval-logloss:0.08858\n",
            "[125]\ttrain-logloss:0.00893\teval-logloss:0.08849\n",
            "[126]\ttrain-logloss:0.00884\teval-logloss:0.08909\n",
            "[127]\ttrain-logloss:0.00877\teval-logloss:0.08886\n",
            "[128]\ttrain-logloss:0.00873\teval-logloss:0.08861\n",
            "[129]\ttrain-logloss:0.00864\teval-logloss:0.08942\n",
            "[130]\ttrain-logloss:0.00861\teval-logloss:0.08934\n",
            "[131]\ttrain-logloss:0.00858\teval-logloss:0.08918\n",
            "[132]\ttrain-logloss:0.00852\teval-logloss:0.08880\n",
            "[133]\ttrain-logloss:0.00844\teval-logloss:0.08956\n",
            "[134]\ttrain-logloss:0.00841\teval-logloss:0.08949\n",
            "[135]\ttrain-logloss:0.00838\teval-logloss:0.08934\n",
            "[136]\ttrain-logloss:0.00833\teval-logloss:0.08891\n",
            "[137]\ttrain-logloss:0.00825\teval-logloss:0.08949\n",
            "[138]\ttrain-logloss:0.00822\teval-logloss:0.08962\n",
            "[139]\ttrain-logloss:0.00815\teval-logloss:0.08969\n",
            "[140]\ttrain-logloss:0.00812\teval-logloss:0.08963\n",
            "[141]\ttrain-logloss:0.00810\teval-logloss:0.08948\n",
            "[142]\ttrain-logloss:0.00807\teval-logloss:0.08961\n",
            "[143]\ttrain-logloss:0.00800\teval-logloss:0.09038\n",
            "[144]\ttrain-logloss:0.00797\teval-logloss:0.09033\n",
            "[145]\ttrain-logloss:0.00793\teval-logloss:0.08991\n",
            "[146]\ttrain-logloss:0.00789\teval-logloss:0.08955\n",
            "[147]\ttrain-logloss:0.00782\teval-logloss:0.08994\n",
            "[148]\ttrain-logloss:0.00779\teval-logloss:0.09002\n",
            "[149]\ttrain-logloss:0.00777\teval-logloss:0.09004\n",
            "[150]\ttrain-logloss:0.00775\teval-logloss:0.09000\n",
            "[151]\ttrain-logloss:0.00772\teval-logloss:0.08985\n",
            "[152]\ttrain-logloss:0.00768\teval-logloss:0.08947\n",
            "[153]\ttrain-logloss:0.00763\teval-logloss:0.08979\n",
            "[154]\ttrain-logloss:0.00757\teval-logloss:0.09010\n",
            "[155]\ttrain-logloss:0.00754\teval-logloss:0.09022\n",
            "[156]\ttrain-logloss:0.00752\teval-logloss:0.09018\n",
            "[157]\ttrain-logloss:0.00748\teval-logloss:0.08997\n",
            "[158]\ttrain-logloss:0.00746\teval-logloss:0.09000\n",
            "[159]\ttrain-logloss:0.00744\teval-logloss:0.08977\n",
            "[160]\ttrain-logloss:0.00742\teval-logloss:0.08976\n",
            "[161]\ttrain-logloss:0.00739\teval-logloss:0.08985\n",
            "[162]\ttrain-logloss:0.00737\teval-logloss:0.08988\n",
            "[163]\ttrain-logloss:0.00735\teval-logloss:0.08959\n",
            "[164]\ttrain-logloss:0.00733\teval-logloss:0.08955\n",
            "[165]\ttrain-logloss:0.00731\teval-logloss:0.08958\n",
            "[166]\ttrain-logloss:0.00729\teval-logloss:0.08930\n",
            "[167]\ttrain-logloss:0.00727\teval-logloss:0.08926\n",
            "[168]\ttrain-logloss:0.00725\teval-logloss:0.08913\n",
            "[169]\ttrain-logloss:0.00723\teval-logloss:0.08915\n",
            "[170]\ttrain-logloss:0.00721\teval-logloss:0.08893\n",
            "[171]\ttrain-logloss:0.00719\teval-logloss:0.08896\n",
            "[172]\ttrain-logloss:0.00717\teval-logloss:0.08908\n",
            "[173]\ttrain-logloss:0.00715\teval-logloss:0.08886\n",
            "[174]\ttrain-logloss:0.00713\teval-logloss:0.08886\n",
            "[175]\ttrain-logloss:0.00711\teval-logloss:0.08895\n",
            "[176]\ttrain-logloss:0.00709\teval-logloss:0.08899\n",
            "[177]\ttrain-logloss:0.00708\teval-logloss:0.08895\n",
            "[178]\ttrain-logloss:0.00706\teval-logloss:0.08867\n",
            "[179]\ttrain-logloss:0.00704\teval-logloss:0.08856\n",
            "[180]\ttrain-logloss:0.00702\teval-logloss:0.08844\n",
            "[181]\ttrain-logloss:0.00700\teval-logloss:0.08841\n",
            "[182]\ttrain-logloss:0.00698\teval-logloss:0.08849\n",
            "[183]\ttrain-logloss:0.00697\teval-logloss:0.08853\n",
            "[184]\ttrain-logloss:0.00695\teval-logloss:0.08831\n",
            "[185]\ttrain-logloss:0.00693\teval-logloss:0.08843\n",
            "[186]\ttrain-logloss:0.00691\teval-logloss:0.08847\n",
            "[187]\ttrain-logloss:0.00689\teval-logloss:0.08826\n",
            "[188]\ttrain-logloss:0.00688\teval-logloss:0.08827\n",
            "[189]\ttrain-logloss:0.00686\teval-logloss:0.08817\n",
            "[190]\ttrain-logloss:0.00684\teval-logloss:0.08826\n",
            "[191]\ttrain-logloss:0.00683\teval-logloss:0.08823\n",
            "[192]\ttrain-logloss:0.00681\teval-logloss:0.08811\n",
            "[193]\ttrain-logloss:0.00679\teval-logloss:0.08791\n",
            "[194]\ttrain-logloss:0.00678\teval-logloss:0.08795\n",
            "[195]\ttrain-logloss:0.00676\teval-logloss:0.08806\n",
            "[196]\ttrain-logloss:0.00674\teval-logloss:0.08787\n",
            "[197]\ttrain-logloss:0.00673\teval-logloss:0.08790\n",
            "[198]\ttrain-logloss:0.00671\teval-logloss:0.08792\n",
            "[199]\ttrain-logloss:0.00670\teval-logloss:0.08800\n",
            "[200]\ttrain-logloss:0.00668\teval-logloss:0.08804\n"
          ]
        }
      ],
      "source": [
        "# train 데이터 셋은 ‘train’ , evaluation(test) 데이터 셋은 ‘eval’ 로 명기합니다.\n",
        "wlist = [(dtrain,'train'),(dtest,'eval') ]\n",
        "# 하이퍼 파라미터와 early stopping 파라미터를 train( ) 함수의 파라미터로 전달\n",
        "xgb_model = xgb.train(params = params , dtrain=dtrain , num_boost_round=num_rounds , \\\n",
        "                      early_stopping_rounds=100, evals=wlist )"
      ]
    },
    {
      "cell_type": "code",
      "execution_count": null,
      "metadata": {
        "id": "2HksEEO4qaUk",
        "colab": {
          "base_uri": "https://localhost:8080/"
        },
        "outputId": "c1098071-8fd0-499d-e1d0-3e6fde33aa86"
      },
      "outputs": [
        {
          "output_type": "stream",
          "name": "stdout",
          "text": [
            "predict( ) 수행 결과값을 10개만 표시, 예측 확률 값으로 표시됨\n",
            "[0.904 0.004 0.908 0.267 0.992 1.    1.    0.999 0.994 0.   ]\n",
            "예측값 10개만 표시: [1, 0, 1, 0, 1, 1, 1, 1, 1, 0]\n"
          ]
        }
      ],
      "source": [
        "pred_probs = xgb_model.predict(dtest)\n",
        "print('predict( ) 수행 결과값을 10개만 표시, 예측 확률 값으로 표시됨')\n",
        "print(np.round(pred_probs[:10],3))\n",
        "\n",
        "# 예측 확률이 0.5 보다 크면 1 , 그렇지 않으면 0 으로 예측값 결정하여 List 객체인 preds에 저장\n",
        "preds = [ 1 if x > 0.5 else 0 for x in pred_probs ]\n",
        "print('예측값 10개만 표시:',preds[:10])"
      ]
    },
    {
      "cell_type": "code",
      "execution_count": null,
      "metadata": {
        "id": "A4dcHkhgreZo"
      },
      "outputs": [],
      "source": [
        "from sklearn.metrics import confusion_matrix, accuracy_score\n",
        "from sklearn.metrics import precision_score, recall_score\n",
        "from sklearn.metrics import f1_score, roc_auc_score\n",
        "\n",
        "def get_clf_eval(y_test, pred=None, pred_proba=None):\n",
        "    confusion = confusion_matrix( y_test, pred)\n",
        "    accuracy = accuracy_score(y_test , pred)\n",
        "    precision = precision_score(y_test , pred)\n",
        "    recall = recall_score(y_test , pred)\n",
        "    f1 = f1_score(y_test,pred)\n",
        "    # ROC-AUC 추가\n",
        "    roc_auc = roc_auc_score(y_test, pred_proba)\n",
        "    print('오차 행렬')\n",
        "    print(confusion)\n",
        "    # ROC-AUC print 추가\n",
        "    print('정확도: {0:.4f}, 정밀도: {1:.4f}, 재현율: {2:.4f},\\\n",
        "    F1: {3:.4f}, AUC:{4:.4f}'.format(accuracy, precision, recall, f1, roc_auc))"
      ]
    },
    {
      "cell_type": "code",
      "execution_count": null,
      "metadata": {
        "id": "z_GcLLXOrgQH",
        "colab": {
          "base_uri": "https://localhost:8080/"
        },
        "outputId": "e9f917b4-cffa-4a28-8de9-eadfbc8260e3"
      },
      "outputs": [
        {
          "output_type": "stream",
          "name": "stdout",
          "text": [
            "오차 행렬\n",
            "[[34  3]\n",
            " [ 1 76]]\n",
            "정확도: 0.9649, 정밀도: 0.9620, 재현율: 0.9870,    F1: 0.9744, AUC:0.9951\n"
          ]
        }
      ],
      "source": [
        "get_clf_eval(y_test , preds, pred_probs)"
      ]
    },
    {
      "cell_type": "code",
      "execution_count": null,
      "metadata": {
        "id": "AhvQRmHErh_D",
        "colab": {
          "base_uri": "https://localhost:8080/",
          "height": 1000
        },
        "outputId": "7bb2078b-0a2a-4b06-a303-f4cf92fd0de2"
      },
      "outputs": [
        {
          "output_type": "execute_result",
          "data": {
            "text/plain": [
              "<Axes: title={'center': 'Feature importance'}, xlabel='F score', ylabel='Features'>"
            ]
          },
          "metadata": {},
          "execution_count": 22
        },
        {
          "output_type": "display_data",
          "data": {
            "text/plain": [
              "<Figure size 1000x1200 with 1 Axes>"
            ],
            "image/png": "[encoded data removed]"
          },
          "metadata": {}
        }
      ],
      "source": [
        "import matplotlib.pyplot as plt\n",
        "%matplotlib inline\n",
        "\n",
        "fig, ax = plt.subplots(figsize=(10, 12))\n",
        "plot_importance(xgb_model, ax=ax)"
      ]
    },
    {
      "cell_type": "code",
      "execution_count": null,
      "metadata": {
        "id": "kdOspnZHrkB8"
      },
      "outputs": [],
      "source": [
        "# 사이킷런 래퍼 XGBoost 클래스인 XGBClassifier 임포트\n",
        "from xgboost import XGBClassifier\n",
        "\n",
        "xgb_wrapper = XGBClassifier(n_estimators=400, learning_rate=0.1, max_depth=3)\n",
        "xgb_wrapper.fit(X_train, y_train)\n",
        "w_preds = xgb_wrapper.predict(X_test)\n",
        "w_pred_proba = xgb_wrapper.predict_proba(X_test)[:, 1]"
      ]
    },
    {
      "cell_type": "code",
      "execution_count": null,
      "metadata": {
        "id": "-GBtZ0CorwfR",
        "colab": {
          "base_uri": "https://localhost:8080/"
        },
        "outputId": "a9162632-a61b-479b-a964-46fce081168c"
      },
      "outputs": [
        {
          "output_type": "stream",
          "name": "stdout",
          "text": [
            "오차 행렬\n",
            "[[35  2]\n",
            " [ 1 76]]\n",
            "정확도: 0.9737, 정밀도: 0.9744, 재현율: 0.9870,    F1: 0.9806, AUC:0.9947\n"
          ]
        }
      ],
      "source": [
        "get_clf_eval(y_test , w_preds, w_pred_proba)"
      ]
    },
    {
      "cell_type": "code",
      "execution_count": null,
      "metadata": {
        "id": "5Gg3ykW5ryjf",
        "colab": {
          "base_uri": "https://localhost:8080/"
        },
        "outputId": "634a3580-e0f0-4dad-b03f-f289e04e4989"
      },
      "outputs": [
        {
          "output_type": "stream",
          "name": "stdout",
          "text": [
            "[0]\tvalidation_0-logloss:0.56554\n",
            "[1]\tvalidation_0-logloss:0.50669\n",
            "[2]\tvalidation_0-logloss:0.45868\n",
            "[3]\tvalidation_0-logloss:0.41822\n",
            "[4]\tvalidation_0-logloss:0.38103\n",
            "[5]\tvalidation_0-logloss:0.35137\n",
            "[6]\tvalidation_0-logloss:0.32588\n",
            "[7]\tvalidation_0-logloss:0.30127\n",
            "[8]\tvalidation_0-logloss:0.28197\n",
            "[9]\tvalidation_0-logloss:0.26265\n",
            "[10]\tvalidation_0-logloss:0.24821\n",
            "[11]\tvalidation_0-logloss:0.23231\n",
            "[12]\tvalidation_0-logloss:0.22079\n",
            "[13]\tvalidation_0-logloss:0.20795\n",
            "[14]\tvalidation_0-logloss:0.19764\n",
            "[15]\tvalidation_0-logloss:0.18950\n",
            "[16]\tvalidation_0-logloss:0.18052\n",
            "[17]\tvalidation_0-logloss:0.17246\n",
            "[18]\tvalidation_0-logloss:0.16512\n",
            "[19]\tvalidation_0-logloss:0.15828\n",
            "[20]\tvalidation_0-logloss:0.15436\n",
            "[21]\tvalidation_0-logloss:0.14633\n",
            "[22]\tvalidation_0-logloss:0.13936\n",
            "[23]\tvalidation_0-logloss:0.13393\n",
            "[24]\tvalidation_0-logloss:0.13015\n",
            "[25]\tvalidation_0-logloss:0.12489\n",
            "[26]\tvalidation_0-logloss:0.12206\n",
            "[27]\tvalidation_0-logloss:0.11890\n",
            "[28]\tvalidation_0-logloss:0.11637\n",
            "[29]\tvalidation_0-logloss:0.11293\n",
            "[30]\tvalidation_0-logloss:0.11040\n",
            "[31]\tvalidation_0-logloss:0.10826\n",
            "[32]\tvalidation_0-logloss:0.10452\n",
            "[33]\tvalidation_0-logloss:0.10322\n",
            "[34]\tvalidation_0-logloss:0.10059\n",
            "[35]\tvalidation_0-logloss:0.09869\n",
            "[36]\tvalidation_0-logloss:0.09658\n",
            "[37]\tvalidation_0-logloss:0.09487\n",
            "[38]\tvalidation_0-logloss:0.09443\n",
            "[39]\tvalidation_0-logloss:0.09374\n",
            "[40]\tvalidation_0-logloss:0.09239\n",
            "[41]\tvalidation_0-logloss:0.09159\n",
            "[42]\tvalidation_0-logloss:0.09004\n",
            "[43]\tvalidation_0-logloss:0.09029\n",
            "[44]\tvalidation_0-logloss:0.08966\n",
            "[45]\tvalidation_0-logloss:0.08808\n",
            "[46]\tvalidation_0-logloss:0.08783\n",
            "[47]\tvalidation_0-logloss:0.08756\n",
            "[48]\tvalidation_0-logloss:0.08682\n",
            "[49]\tvalidation_0-logloss:0.08829\n",
            "[50]\tvalidation_0-logloss:0.08882\n",
            "[51]\tvalidation_0-logloss:0.08871\n",
            "[52]\tvalidation_0-logloss:0.08780\n",
            "[53]\tvalidation_0-logloss:0.08766\n",
            "[54]\tvalidation_0-logloss:0.08825\n",
            "[55]\tvalidation_0-logloss:0.08882\n",
            "[56]\tvalidation_0-logloss:0.08785\n",
            "[57]\tvalidation_0-logloss:0.08813\n",
            "[58]\tvalidation_0-logloss:0.08871\n",
            "[59]\tvalidation_0-logloss:0.08760\n",
            "[60]\tvalidation_0-logloss:0.08712\n",
            "[61]\tvalidation_0-logloss:0.08795\n",
            "[62]\tvalidation_0-logloss:0.08799\n",
            "[63]\tvalidation_0-logloss:0.08808\n",
            "[64]\tvalidation_0-logloss:0.08749\n",
            "[65]\tvalidation_0-logloss:0.08760\n",
            "[66]\tvalidation_0-logloss:0.08708\n",
            "[67]\tvalidation_0-logloss:0.08668\n",
            "[68]\tvalidation_0-logloss:0.08654\n",
            "[69]\tvalidation_0-logloss:0.08630\n",
            "[70]\tvalidation_0-logloss:0.08574\n",
            "[71]\tvalidation_0-logloss:0.08696\n",
            "[72]\tvalidation_0-logloss:0.08626\n",
            "[73]\tvalidation_0-logloss:0.08685\n",
            "[74]\tvalidation_0-logloss:0.08663\n",
            "[75]\tvalidation_0-logloss:0.08780\n",
            "[76]\tvalidation_0-logloss:0.08713\n",
            "[77]\tvalidation_0-logloss:0.08822\n",
            "[78]\tvalidation_0-logloss:0.08758\n",
            "[79]\tvalidation_0-logloss:0.08728\n",
            "[80]\tvalidation_0-logloss:0.08703\n",
            "[81]\tvalidation_0-logloss:0.08719\n",
            "[82]\tvalidation_0-logloss:0.08662\n",
            "[83]\tvalidation_0-logloss:0.08637\n",
            "[84]\tvalidation_0-logloss:0.08570\n",
            "[85]\tvalidation_0-logloss:0.08590\n",
            "[86]\tvalidation_0-logloss:0.08587\n",
            "[87]\tvalidation_0-logloss:0.08614\n",
            "[88]\tvalidation_0-logloss:0.08635\n",
            "[89]\tvalidation_0-logloss:0.08646\n",
            "[90]\tvalidation_0-logloss:0.08583\n",
            "[91]\tvalidation_0-logloss:0.08583\n",
            "[92]\tvalidation_0-logloss:0.08564\n",
            "[93]\tvalidation_0-logloss:0.08669\n",
            "[94]\tvalidation_0-logloss:0.08692\n",
            "[95]\tvalidation_0-logloss:0.08687\n",
            "[96]\tvalidation_0-logloss:0.08641\n",
            "[97]\tvalidation_0-logloss:0.08584\n",
            "[98]\tvalidation_0-logloss:0.08568\n",
            "[99]\tvalidation_0-logloss:0.08552\n",
            "[100]\tvalidation_0-logloss:0.08548\n",
            "[101]\tvalidation_0-logloss:0.08630\n",
            "[102]\tvalidation_0-logloss:0.08658\n",
            "[103]\tvalidation_0-logloss:0.08656\n",
            "[104]\tvalidation_0-logloss:0.08742\n",
            "[105]\tvalidation_0-logloss:0.08779\n",
            "[106]\tvalidation_0-logloss:0.08777\n",
            "[107]\tvalidation_0-logloss:0.08738\n",
            "[108]\tvalidation_0-logloss:0.08729\n",
            "[109]\tvalidation_0-logloss:0.08736\n",
            "[110]\tvalidation_0-logloss:0.08722\n",
            "[111]\tvalidation_0-logloss:0.08774\n",
            "[112]\tvalidation_0-logloss:0.08864\n",
            "[113]\tvalidation_0-logloss:0.08871\n",
            "[114]\tvalidation_0-logloss:0.08836\n",
            "[115]\tvalidation_0-logloss:0.08865\n",
            "[116]\tvalidation_0-logloss:0.08874\n",
            "[117]\tvalidation_0-logloss:0.08861\n",
            "[118]\tvalidation_0-logloss:0.08819\n",
            "[119]\tvalidation_0-logloss:0.08901\n",
            "[120]\tvalidation_0-logloss:0.08894\n",
            "[121]\tvalidation_0-logloss:0.08869\n",
            "[122]\tvalidation_0-logloss:0.08880\n",
            "[123]\tvalidation_0-logloss:0.08848\n",
            "[124]\tvalidation_0-logloss:0.08858\n",
            "[125]\tvalidation_0-logloss:0.08849\n",
            "[126]\tvalidation_0-logloss:0.08909\n",
            "[127]\tvalidation_0-logloss:0.08886\n",
            "[128]\tvalidation_0-logloss:0.08861\n",
            "[129]\tvalidation_0-logloss:0.08942\n",
            "[130]\tvalidation_0-logloss:0.08934\n",
            "[131]\tvalidation_0-logloss:0.08918\n",
            "[132]\tvalidation_0-logloss:0.08880\n",
            "[133]\tvalidation_0-logloss:0.08956\n",
            "[134]\tvalidation_0-logloss:0.08949\n",
            "[135]\tvalidation_0-logloss:0.08934\n",
            "[136]\tvalidation_0-logloss:0.08891\n",
            "[137]\tvalidation_0-logloss:0.08949\n",
            "[138]\tvalidation_0-logloss:0.08962\n",
            "[139]\tvalidation_0-logloss:0.08969\n",
            "[140]\tvalidation_0-logloss:0.08963\n",
            "[141]\tvalidation_0-logloss:0.08948\n",
            "[142]\tvalidation_0-logloss:0.08961\n",
            "[143]\tvalidation_0-logloss:0.09038\n",
            "[144]\tvalidation_0-logloss:0.09033\n",
            "[145]\tvalidation_0-logloss:0.08991\n",
            "[146]\tvalidation_0-logloss:0.08955\n",
            "[147]\tvalidation_0-logloss:0.08994\n",
            "[148]\tvalidation_0-logloss:0.09002\n",
            "[149]\tvalidation_0-logloss:0.09004\n",
            "[150]\tvalidation_0-logloss:0.09000\n",
            "[151]\tvalidation_0-logloss:0.08985\n",
            "[152]\tvalidation_0-logloss:0.08947\n",
            "[153]\tvalidation_0-logloss:0.08979\n",
            "[154]\tvalidation_0-logloss:0.09010\n",
            "[155]\tvalidation_0-logloss:0.09022\n",
            "[156]\tvalidation_0-logloss:0.09018\n",
            "[157]\tvalidation_0-logloss:0.08997\n",
            "[158]\tvalidation_0-logloss:0.09000\n",
            "[159]\tvalidation_0-logloss:0.08977\n",
            "[160]\tvalidation_0-logloss:0.08976\n",
            "[161]\tvalidation_0-logloss:0.08985\n",
            "[162]\tvalidation_0-logloss:0.08988\n",
            "[163]\tvalidation_0-logloss:0.08959\n",
            "[164]\tvalidation_0-logloss:0.08955\n",
            "[165]\tvalidation_0-logloss:0.08958\n",
            "[166]\tvalidation_0-logloss:0.08930\n",
            "[167]\tvalidation_0-logloss:0.08926\n",
            "[168]\tvalidation_0-logloss:0.08913\n",
            "[169]\tvalidation_0-logloss:0.08915\n",
            "[170]\tvalidation_0-logloss:0.08893\n",
            "[171]\tvalidation_0-logloss:0.08896\n",
            "[172]\tvalidation_0-logloss:0.08908\n",
            "[173]\tvalidation_0-logloss:0.08886\n",
            "[174]\tvalidation_0-logloss:0.08886\n",
            "[175]\tvalidation_0-logloss:0.08895\n",
            "[176]\tvalidation_0-logloss:0.08899\n",
            "[177]\tvalidation_0-logloss:0.08895\n",
            "[178]\tvalidation_0-logloss:0.08867\n",
            "[179]\tvalidation_0-logloss:0.08856\n",
            "[180]\tvalidation_0-logloss:0.08844\n",
            "[181]\tvalidation_0-logloss:0.08841\n",
            "[182]\tvalidation_0-logloss:0.08849\n",
            "[183]\tvalidation_0-logloss:0.08853\n",
            "[184]\tvalidation_0-logloss:0.08831\n",
            "[185]\tvalidation_0-logloss:0.08843\n",
            "[186]\tvalidation_0-logloss:0.08847\n",
            "[187]\tvalidation_0-logloss:0.08826\n",
            "[188]\tvalidation_0-logloss:0.08827\n",
            "[189]\tvalidation_0-logloss:0.08817\n",
            "[190]\tvalidation_0-logloss:0.08826\n",
            "[191]\tvalidation_0-logloss:0.08823\n",
            "[192]\tvalidation_0-logloss:0.08811\n",
            "[193]\tvalidation_0-logloss:0.08791\n",
            "[194]\tvalidation_0-logloss:0.08795\n",
            "[195]\tvalidation_0-logloss:0.08806\n",
            "[196]\tvalidation_0-logloss:0.08787\n",
            "[197]\tvalidation_0-logloss:0.08790\n",
            "[198]\tvalidation_0-logloss:0.08792\n",
            "[199]\tvalidation_0-logloss:0.08800\n"
          ]
        }
      ],
      "source": [
        "from xgboost import XGBClassifier\n",
        "\n",
        "xgb_wrapper = XGBClassifier(n_estimators=400, learning_rate=0.1, max_depth=3)\n",
        "evals = [(X_test, y_test)]\n",
        "xgb_wrapper.fit(X_train, y_train, early_stopping_rounds=100, eval_metric=\"logloss\",\n",
        "                eval_set=evals, verbose=True)\n",
        "\n",
        "ws100_preds = xgb_wrapper.predict(X_test)\n",
        "ws100_pred_proba = xgb_wrapper.predict_proba(X_test)[:, 1]"
      ]
    },
    {
      "cell_type": "code",
      "execution_count": null,
      "metadata": {
        "id": "8jEZ6QbFr1vo",
        "colab": {
          "base_uri": "https://localhost:8080/"
        },
        "outputId": "ffc14dde-0743-4eae-9198-7db132f28b64"
      },
      "outputs": [
        {
          "output_type": "stream",
          "name": "stdout",
          "text": [
            "오차 행렬\n",
            "[[34  3]\n",
            " [ 1 76]]\n",
            "정확도: 0.9649, 정밀도: 0.9620, 재현율: 0.9870,    F1: 0.9744, AUC:0.9951\n"
          ]
        }
      ],
      "source": [
        "get_clf_eval(y_test , ws100_preds, ws100_pred_proba)"
      ]
    },
    {
      "cell_type": "code",
      "execution_count": null,
      "metadata": {
        "id": "9aN-pgttr30w",
        "colab": {
          "base_uri": "https://localhost:8080/"
        },
        "outputId": "22941c3a-6046-4673-c668-a3f50e9e17e4"
      },
      "outputs": [
        {
          "output_type": "stream",
          "name": "stdout",
          "text": [
            "[0]\tvalidation_0-logloss:0.56554\n",
            "[1]\tvalidation_0-logloss:0.50669\n",
            "[2]\tvalidation_0-logloss:0.45868\n",
            "[3]\tvalidation_0-logloss:0.41822\n",
            "[4]\tvalidation_0-logloss:0.38103\n",
            "[5]\tvalidation_0-logloss:0.35137\n",
            "[6]\tvalidation_0-logloss:0.32588\n",
            "[7]\tvalidation_0-logloss:0.30127\n",
            "[8]\tvalidation_0-logloss:0.28197\n",
            "[9]\tvalidation_0-logloss:0.26265\n",
            "[10]\tvalidation_0-logloss:0.24821\n",
            "[11]\tvalidation_0-logloss:0.23231\n",
            "[12]\tvalidation_0-logloss:0.22079\n",
            "[13]\tvalidation_0-logloss:0.20795\n",
            "[14]\tvalidation_0-logloss:0.19764\n",
            "[15]\tvalidation_0-logloss:0.18950\n",
            "[16]\tvalidation_0-logloss:0.18052\n",
            "[17]\tvalidation_0-logloss:0.17246\n",
            "[18]\tvalidation_0-logloss:0.16512\n",
            "[19]\tvalidation_0-logloss:0.15828\n",
            "[20]\tvalidation_0-logloss:0.15436\n",
            "[21]\tvalidation_0-logloss:0.14633\n",
            "[22]\tvalidation_0-logloss:0.13936\n",
            "[23]\tvalidation_0-logloss:0.13393\n",
            "[24]\tvalidation_0-logloss:0.13015\n",
            "[25]\tvalidation_0-logloss:0.12489\n",
            "[26]\tvalidation_0-logloss:0.12206\n",
            "[27]\tvalidation_0-logloss:0.11890\n",
            "[28]\tvalidation_0-logloss:0.11637\n",
            "[29]\tvalidation_0-logloss:0.11293\n",
            "[30]\tvalidation_0-logloss:0.11040\n",
            "[31]\tvalidation_0-logloss:0.10826\n",
            "[32]\tvalidation_0-logloss:0.10452\n",
            "[33]\tvalidation_0-logloss:0.10322\n",
            "[34]\tvalidation_0-logloss:0.10059\n",
            "[35]\tvalidation_0-logloss:0.09869\n",
            "[36]\tvalidation_0-logloss:0.09658\n",
            "[37]\tvalidation_0-logloss:0.09487\n",
            "[38]\tvalidation_0-logloss:0.09443\n",
            "[39]\tvalidation_0-logloss:0.09374\n",
            "[40]\tvalidation_0-logloss:0.09239\n",
            "[41]\tvalidation_0-logloss:0.09159\n",
            "[42]\tvalidation_0-logloss:0.09004\n",
            "[43]\tvalidation_0-logloss:0.09029\n",
            "[44]\tvalidation_0-logloss:0.08966\n",
            "[45]\tvalidation_0-logloss:0.08808\n",
            "[46]\tvalidation_0-logloss:0.08783\n",
            "[47]\tvalidation_0-logloss:0.08756\n",
            "[48]\tvalidation_0-logloss:0.08682\n",
            "[49]\tvalidation_0-logloss:0.08829\n",
            "[50]\tvalidation_0-logloss:0.08882\n",
            "[51]\tvalidation_0-logloss:0.08871\n",
            "[52]\tvalidation_0-logloss:0.08780\n",
            "[53]\tvalidation_0-logloss:0.08766\n",
            "[54]\tvalidation_0-logloss:0.08825\n",
            "[55]\tvalidation_0-logloss:0.08882\n",
            "[56]\tvalidation_0-logloss:0.08785\n",
            "[57]\tvalidation_0-logloss:0.08813\n",
            "오차 행렬\n",
            "[[34  3]\n",
            " [ 2 75]]\n",
            "정확도: 0.9561, 정밀도: 0.9615, 재현율: 0.9740,    F1: 0.9677, AUC:0.9954\n"
          ]
        }
      ],
      "source": [
        "# early_stopping_rounds를 10으로 설정하고 재 학습.\n",
        "xgb_wrapper.fit(X_train, y_train, early_stopping_rounds=10,\n",
        "                eval_metric=\"logloss\", eval_set=evals,verbose=True)\n",
        "\n",
        "ws10_preds = xgb_wrapper.predict(X_test)\n",
        "ws10_pred_proba = xgb_wrapper.predict_proba(X_test)[:, 1]\n",
        "get_clf_eval(y_test , ws10_preds, ws10_pred_proba)"
      ]
    },
    {
      "cell_type": "code",
      "execution_count": null,
      "metadata": {
        "id": "EszSHiCVr54C",
        "colab": {
          "base_uri": "https://localhost:8080/",
          "height": 1000
        },
        "outputId": "5bebdd20-701e-4d83-c5f6-d95fae11614d"
      },
      "outputs": [
        {
          "output_type": "execute_result",
          "data": {
            "text/plain": [
              "<Axes: title={'center': 'Feature importance'}, xlabel='F score', ylabel='Features'>"
            ]
          },
          "metadata": {},
          "execution_count": 28
        },
        {
          "output_type": "display_data",
          "data": {
            "text/plain": [
              "<Figure size 1000x1200 with 1 Axes>"
            ],
            "image/png": "[encoded data removed]"
          },
          "metadata": {}
        }
      ],
      "source": [
        "from xgboost import plot_importance\n",
        "import matplotlib.pyplot as plt\n",
        "%matplotlib inline\n",
        "\n",
        "fig, ax = plt.subplots(figsize=(10, 12))\n",
        "# 사이킷런 래퍼 클래스를 입력해도 무방.\n",
        "plot_importance(xgb_wrapper, ax=ax)"
      ]
    }
  ],
  "metadata": {
    "colab": {
      "provenance": [],
      "authorship_tag": "ABX9TyNggSe9Mkh/CgfeGrtfTSWv",
      "include_colab_link": true
    },
    "kernelspec": {
      "display_name": "Python 3",
      "name": "python3"
    },
    "language_info": {
      "name": "python"
    }
  },
  "nbformat": 4,
  "nbformat_minor": 0
}