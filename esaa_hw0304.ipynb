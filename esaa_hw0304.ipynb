{
  "nbformat": 4,
  "nbformat_minor": 0,
  "metadata": {
    "colab": {
      "provenance": [],
      "authorship_tag": "ABX9TyMukfGNDjj1DDo23v/VjvYn",
      "include_colab_link": true
    },
    "kernelspec": {
      "name": "python3",
      "display_name": "Python 3"
    },
    "language_info": {
      "name": "python"
    }
  },
  "cells": [
    {
      "cell_type": "markdown",
      "metadata": {
        "id": "view-in-github",
        "colab_type": "text"
      },
      "source": [
        "<a href=\"https://colab.research.google.com/github/ljm524/esaa24-1/blob/main/esaa_hw0304.ipynb\" target=\"_parent\"><img src=\"https://colab.research.google.com/assets/colab-badge.svg\" alt=\"Open In Colab\"/></a>"
      ]
    },
    {
      "cell_type": "markdown",
      "source": [
        "# [개념정리]"
      ],
      "metadata": {
        "id": "cuvWt_kwNuDI"
      }
    },
    {
      "cell_type": "markdown",
      "source": [
        "## CHAPTER 01 파이썬 기반의 머신러닝과 생태계 이해\n",
        "### 03 넘파이"
      ],
      "metadata": {
        "id": "3m1AgOuljtvY"
      }
    },
    {
      "cell_type": "markdown",
      "source": [
        "*넘파이 ndarray 개요*\n",
        "\n",
        "\n",
        "*   약어 : np\n",
        "*   기반 데이터 타입 : ndarray\n",
        "*   np.array() : ndarray로 변환\n",
        "*   ndarray.shape : ndarray의 차원과 크기를 튜플 형태로 나타냄"
      ],
      "metadata": {
        "id": "e_jjt7Pkj2wm"
      }
    },
    {
      "cell_type": "markdown",
      "source": [
        "*ndarray의 데이터 타입*\n",
        "\n",
        "\n",
        "*   ndarray.dtype : 데이터 타입을 확인\n",
        "*   ndarray 내에 데이터 타입이 섞여있을 경우 데이터 크기가 더 큰 데이터 타입으로 형 변환\n",
        "*   ndarray.astype('타입') : 데이터값 타입 변경\n"
      ],
      "metadata": {
        "id": "yylJgmaZj7yr"
      }
    },
    {
      "cell_type": "markdown",
      "source": [
        "*ndarray를 편리하게 생성하기 - arange, zeros, ones*\n",
        "\n",
        "\n",
        "*   np.arange() : 0부터 함수 인자 값 -1까지의 값을 순차적으로 ndarray의 데이터값으로 변환\n",
        "*   np.zeros((a,b),dtype='데이터타입') : 모든 값을 0으로 채운 해당 shape를 가진 ndarray를 반환\n",
        "*   np.ones() : 함수 인자로 튜플 형태의 shape 값을 입력하면 모든 값을 1로 채운 해당 shape를 가진 ndarray를 반환 (데이터타입은 default가 float64)"
      ],
      "metadata": {
        "id": "3K8GUWaxkC6D"
      }
    },
    {
      "cell_type": "markdown",
      "source": [
        "*ndarray의 차원과 크기를 변경하는 reshape()*\n",
        "\n",
        "\n",
        "*   ndarray.reshape(a,b,...,n) : (a,b,....,n) 차원 및 크기로 변환\n",
        "> -1을 인자로 사용하면 원래 ndarray와 호환되는 새로운 shape로 변환해줌\n",
        "\n",
        "\n"
      ],
      "metadata": {
        "id": "FdzCJBiLkGN5"
      }
    },
    {
      "cell_type": "markdown",
      "source": [
        "*넘파이의 ndarray의 데이터 세트 선택하기 - 인덱싱(Indexing)*\n",
        "\n",
        "\n",
        "*   단일 값 추출 : ndarray[인덱스값]\n",
        "> 인덱스에 마이너스 기호 이용 시 맨 뒤에서부터 데이터 추출 가능\n",
        "*   슬라이싱 : ndarray[시작인덱스:종료인덱스]\n",
        "> 시작 인덱스에서 종료 인덱스-1의 위치에 있는 데이터의 ndarray를 반환\n",
        "> 1.   ':' 기호 앞에 시작 인덱스를 생략하면 자동으로 맨 처음 인덱스인 0으로 간주\n",
        "> 2.   ':' 기호 뒤에 종료 인덱스를 생략하면 자동으로 맨 마지막 인덱스로 간주\n",
        "> 3.   ':' 기호 앞/뒤에 시작/종료 인덱스를 생략하면 자동으로 맨 처음/맨 마지막 인덱스로 간주\n",
        "*   팬시 인덱싱 : ndarray[[a,b]]\n",
        "*   불린 인덱싱 : ndarray[조건문]\n",
        "> 1. ndarray의 필터링 조건을 [] 안에 기재\n",
        "> 2. False 값은 무시하고 True 값에 해당하는 인덱스값만 저장(유의해야 할 사항은 True값 자체인 1을 저장하는 것이 아니라 True값을 가진 인덱스를 저장한다는 것)\n",
        "> 3. 저장된 인덱스 데이터 세트로 ndarray 조회\n",
        "\n",
        "\n"
      ],
      "metadata": {
        "id": "xU4bTqbnlm7p"
      }
    },
    {
      "cell_type": "markdown",
      "source": [
        "*행렬의 정렬 - sort()와 argsort()*\n",
        "\n",
        "\n",
        "*   행렬 정렬\n",
        "> 1. np.sort() : 원 행렬은 그대로 유지, 원 행렬의 정렬된 행렬 반환\n",
        "> 2. ndarray.sort() : 원 행렬 자체를 정렬, 반환 값은 None\n",
        "*   정렬된 행렬의 인덱스를 반환하기\n",
        "> np.argsort() : 원본 행렬이 정렬되었을 때 기존 원본 행렬의 원소에 대한 인덱스 반환\n",
        "\n",
        "\n",
        "\n"
      ],
      "metadata": {
        "id": "jt2dG-UxpLfJ"
      }
    },
    {
      "cell_type": "markdown",
      "source": [
        "*선형대수 연산 - 행렬 내적과 전치 행렬 구하기*\n",
        "\n",
        "\n",
        "*   행렬 내적(행렬 곱) : np.dot()\n",
        "*   전치 행렬 : np.transpose()\n",
        "\n"
      ],
      "metadata": {
        "id": "5qvGFik0wSMY"
      }
    },
    {
      "cell_type": "markdown",
      "source": [
        "# [필사]"
      ],
      "metadata": {
        "id": "HEgt-m9hxfpa"
      }
    },
    {
      "cell_type": "code",
      "source": [
        "import numpy as np"
      ],
      "metadata": {
        "id": "oJC3tjLYkwDs"
      },
      "execution_count": null,
      "outputs": []
    },
    {
      "cell_type": "code",
      "source": [
        "array1 = np.array([1, 2, 3])\n",
        "print('array1 type:', type(array1))\n",
        "print('array1 array 형태:', array1.shape)\n",
        "\n",
        "array2 = np.array([[1, 2, 3],\n",
        "                   [2, 3, 4]])\n",
        "print('array2 type:', type(array2))\n",
        "print('array2 array 형태:', array2.shape)\n",
        "\n",
        "array3 = np.array([[1, 2, 3]])\n",
        "print('array3 type:', type(array3))\n",
        "print('array3 array 형태:', array3.shape)"
      ],
      "metadata": {
        "id": "JRcdSMcgiYWR"
      },
      "execution_count": null,
      "outputs": []
    },
    {
      "cell_type": "code",
      "source": [
        "print('array1: {:0}차원, array2: {:1}차원, array3: {:2}차원'.format(array1.ndim,\n",
        "                                                              array2.ndim, array3.ndim))"
      ],
      "metadata": {
        "id": "lwk7qjdqiyx0"
      },
      "execution_count": null,
      "outputs": []
    },
    {
      "cell_type": "code",
      "source": [
        "list1 = [1, 2, 3]\n",
        "print(type(list1))\n",
        "array1 = np.array(list1)\n",
        "print(type(array1))\n",
        "print(array1, array1.dtype)"
      ],
      "metadata": {
        "id": "Q-yA-fBdjWqt"
      },
      "execution_count": null,
      "outputs": []
    },
    {
      "cell_type": "code",
      "source": [
        "list2 = [1, 2, 'test']\n",
        "array2 = np.array(list2)\n",
        "print(array2, array2.dtype)\n",
        "\n",
        "list3 = [1, 2, 3.0]\n",
        "array3 = np.array(list3)\n",
        "print(array3, array3.dtype)"
      ],
      "metadata": {
        "id": "Ti5shM531OND"
      },
      "execution_count": null,
      "outputs": []
    },
    {
      "cell_type": "code",
      "source": [
        "array_int = np.array([1, 2, 3])\n",
        "array_float = array_int.astype('float64')\n",
        "print(array_float, array_float.dtype)\n",
        "\n",
        "array_int1=array_float.astype('int32')\n",
        "print(array_int1, array_int1.dtype)\n",
        "\n",
        "array_float1 = np.array([1.1, 2.1, 3.1])\n",
        "array_int2=array_float1.astype('int32')\n",
        "print(array_int2, array_int2.dtype)"
      ],
      "metadata": {
        "id": "rT3FZ0xljenx"
      },
      "execution_count": null,
      "outputs": []
    },
    {
      "cell_type": "code",
      "source": [
        "sequence_array = np.arange(10)\n",
        "print(sequence_array)\n",
        "print(sequence_array.dtype, sequence_array.shape)"
      ],
      "metadata": {
        "id": "I0KIqsyj3xtY"
      },
      "execution_count": null,
      "outputs": []
    },
    {
      "cell_type": "code",
      "source": [
        "zero_array = np.zeros((3, 2), dtype='int32')\n",
        "print(zero_array)\n",
        "print(zero_array.dtype, zero_array.shape)\n",
        "\n",
        "one_array = np.ones((3, 2))\n",
        "print(one_array)\n",
        "print(one_array.dtype, one_array.shape)"
      ],
      "metadata": {
        "id": "atvtO_964OCv"
      },
      "execution_count": null,
      "outputs": []
    },
    {
      "cell_type": "code",
      "source": [
        "array1 = np.arange(10)\n",
        "print('array1:\\n', array1)\n",
        "\n",
        "array2 = array1.reshape(2, 5)\n",
        "print('array2:\\n', array2)\n",
        "\n",
        "array3 = array1.reshape(5, 2)\n",
        "print('array3:\\n', array3)"
      ],
      "metadata": {
        "id": "D5pjR7Uy4nYx"
      },
      "execution_count": null,
      "outputs": []
    },
    {
      "cell_type": "code",
      "source": [
        "array1.reshape(4, 3)"
      ],
      "metadata": {
        "id": "4uLlnbYN69Ld"
      },
      "execution_count": null,
      "outputs": []
    },
    {
      "cell_type": "code",
      "source": [
        "array1 = np.arange(10)\n",
        "print(array1)\n",
        "array2 = array1.reshape(-1, 5)\n",
        "print('array2 shape:', array2.shape)\n",
        "array3 = array1.reshape(5, -1)\n",
        "print('array3 shape:', array3.shape)"
      ],
      "metadata": {
        "id": "hNuNvkCK7Bwe"
      },
      "execution_count": null,
      "outputs": []
    },
    {
      "cell_type": "code",
      "source": [
        "array1 = np.arange(10)\n",
        "array4 = array1.reshape(-1, 4)"
      ],
      "metadata": {
        "id": "gB6qFiWi7S5i"
      },
      "execution_count": null,
      "outputs": []
    },
    {
      "cell_type": "code",
      "source": [
        "array1 = np.arange(8)\n",
        "array3d = array1.reshape((2, 2, 2))\n",
        "print('array3d:\\n', array3d.tolist())\n",
        "\n",
        "# 3차원 ndarray를 2차원 ndarray로 변환\n",
        "array5 = array3d.reshape(-1, 1)\n",
        "print('array5:\\n', array5.tolist())\n",
        "print('array5 shape:', array5.shape)\n",
        "\n",
        "# 1차원 ndarray를 2차원 ndarray로 변환\n",
        "array6 = array1.reshape(-1, 1)\n",
        "print('array6:\\n', array6.tolist())\n",
        "print('array6 shape:', array6.shape)"
      ],
      "metadata": {
        "id": "L52nVSUh9GB3"
      },
      "execution_count": null,
      "outputs": []
    },
    {
      "cell_type": "code",
      "source": [
        "# 1부터 9까지의 1차원 ndarray 생성\n",
        "array1 = np.arange(start=1, stop=10)\n",
        "print('array1:', array1)\n",
        "# index는 0부터 시작하므로 array1[2]는 3번째 index 위치의 데이터값을 의미\n",
        "value = array1[2]\n",
        "print('value:', value)\n",
        "print(type(value))"
      ],
      "metadata": {
        "id": "atPSlYcv9sG1"
      },
      "execution_count": null,
      "outputs": []
    },
    {
      "cell_type": "code",
      "source": [
        "print('맨 뒤의 값:', array1[-1], '맨 뒤에서 두 번째 값:', array1[-2])"
      ],
      "metadata": {
        "id": "D_q2oD92-FbG"
      },
      "execution_count": null,
      "outputs": []
    },
    {
      "cell_type": "code",
      "source": [
        "array1[0] = 9\n",
        "array1[8] = 0\n",
        "print('array1:', array1)"
      ],
      "metadata": {
        "id": "M3k0AZfl-ObA"
      },
      "execution_count": null,
      "outputs": []
    },
    {
      "cell_type": "code",
      "source": [
        "array1d = np.arange(start=1, stop=10)\n",
        "array2d = array1d.reshape(3, 3)\n",
        "print(array2d)\n",
        "\n",
        "print('(row=0, col=0) index 가리키는 값:', array2d[0, 0])\n",
        "print('(row=0, col=1) index 가리키는 값:', array2d[0, 1])\n",
        "print('(row=1, col=0) index 가리키는 값:', array2d[1, 0])\n",
        "print('(row=2, col=2) index 가리키는 값:', array2d[2, 2])"
      ],
      "metadata": {
        "id": "yNj9Y8IU-Tzg"
      },
      "execution_count": null,
      "outputs": []
    },
    {
      "cell_type": "code",
      "source": [
        "array1 = np.arange(start=1, stop=10)\n",
        "array3 = array1[0:3]\n",
        "print(array3)\n",
        "print(type(array3))"
      ],
      "metadata": {
        "id": "1ehsrKZu-wWp"
      },
      "execution_count": null,
      "outputs": []
    },
    {
      "cell_type": "code",
      "source": [
        "array1 = np.arange(start=1, stop=10)\n",
        "array4 = array1[:3]\n",
        "print(array4)\n",
        "\n",
        "array5 = array1[3:]\n",
        "print(array5)\n",
        "\n",
        "array6 = array1[:]\n",
        "print(array6)"
      ],
      "metadata": {
        "id": "yU1lWqXp-7Gn"
      },
      "execution_count": null,
      "outputs": []
    },
    {
      "cell_type": "code",
      "source": [
        "array1d = np.arange(start=1, stop=10)\n",
        "array2d = array1d.reshape(3, 3)\n",
        "print('array2d:\\n', array2d)\n",
        "\n",
        "print('array2d[0:2, 0:2] \\n', array2d[0:2, 0:2])\n",
        "print('array2d[1:3, 0:4] \\n', array2d[1:3, 0:3])\n",
        "print('array2d[1:3, :] \\n', array2d[1:3, :])\n",
        "print('array2d[:, :] \\n', array2d[:, :])\n",
        "print('array2d[:2, 1:] \\n', array2d[:2, 1:])\n",
        "print('array2d[:2, 0] \\n', array2d[:2, 0])"
      ],
      "metadata": {
        "id": "gqNbHbMl_HlG"
      },
      "execution_count": null,
      "outputs": []
    },
    {
      "cell_type": "code",
      "source": [
        "print(array2d[0])\n",
        "print(array2d[1])\n",
        "print('array2d[0] shape:', array2d[0].shape, 'array2d[1] shape:', array2d[1].shape)"
      ],
      "metadata": {
        "id": "bmBiPL-p_tMc"
      },
      "execution_count": null,
      "outputs": []
    },
    {
      "cell_type": "code",
      "source": [
        "array1d = np.arange(start=1, stop=10)\n",
        "array2d = array1d.reshape(3, 3)\n",
        "\n",
        "array3 = array2d[[0, 1], 2]\n",
        "print('array2d[[0, 1], 2] => ', array3.tolist())\n",
        "\n",
        "array4 = array2d[[0, 1], 0:2]\n",
        "print('array2d[[0, 1],0:2] => ', array4.tolist())\n",
        "\n",
        "array5 = array2d[[0, 1]]\n",
        "print('array2d[[0, 1]] => ', array5.tolist())"
      ],
      "metadata": {
        "id": "HjMtAwJK_6hC"
      },
      "execution_count": null,
      "outputs": []
    },
    {
      "cell_type": "code",
      "source": [
        "array1d = np.arange(start=1, stop=10)\n",
        "# [] 안에 array1d > 5 Boolean indexing을 적용\n",
        "array3 = array1d[array1d > 5]\n",
        "print('array1d > 5 불린 인덱싱 결과 값 :', array3)"
      ],
      "metadata": {
        "id": "bA9rI4gBAg6H"
      },
      "execution_count": null,
      "outputs": []
    },
    {
      "cell_type": "code",
      "source": [
        "array1d > 5"
      ],
      "metadata": {
        "id": "0yAv_jtfAzaE"
      },
      "execution_count": null,
      "outputs": []
    },
    {
      "cell_type": "code",
      "source": [
        "boolean_indexes = np.array([False, False, False, False, False, True, True, True, True])\n",
        "array3 = array1d[boolean_indexes]\n",
        "print('불린 인덱스로 필터링 결과 :', array3)"
      ],
      "metadata": {
        "id": "nw1aPYC7A2aY"
      },
      "execution_count": null,
      "outputs": []
    },
    {
      "cell_type": "code",
      "source": [
        "indexes = np.array([5, 6, 7, 8])\n",
        "array4 = array1d[indexes]\n",
        "print('일반 인덱스로 필터링 결과 :', array4)"
      ],
      "metadata": {
        "id": "MKsLte-iBDfB"
      },
      "execution_count": null,
      "outputs": []
    },
    {
      "cell_type": "code",
      "source": [
        "org_array = np.array([ 3, 1, 9, 5])\n",
        "print('원본 행렬:', org_array)\n",
        "# np.sort()로 정렬\n",
        "sort_array1 = np.sort(org_array)\n",
        "print ('np.sort() 호출 후 반환된 정렬 행렬:', sort_array1)\n",
        "print('np.sort() 호출 후 원본 행렬:', org_array)\n",
        "# ndarray.sort()로 정렬\n",
        "sort_array2 = org_array.sort()\n",
        "print('org_array.sort() 호출 후 반환된 행렬:', sort_array2)\n",
        "print('org_array.sort() 호출 후 원본 행렬:', org_array)"
      ],
      "metadata": {
        "id": "P7Z-DCKGCNV6"
      },
      "execution_count": null,
      "outputs": []
    },
    {
      "cell_type": "code",
      "source": [
        "sort_array1_desc = np.sort(org_array)[::-1]\n",
        "print ('내림차순으로 정렬:', sort_array1_desc)"
      ],
      "metadata": {
        "id": "zQ64ISmTC0F1"
      },
      "execution_count": null,
      "outputs": []
    },
    {
      "cell_type": "code",
      "source": [
        "array2d = np.array([[8, 12],\n",
        "                    [7, 1 ]])\n",
        "\n",
        "sort_array2d_axis0 = np.sort(array2d, axis=0)\n",
        "print('로우 방향으로 정렬:\\n', sort_array2d_axis0)\n",
        "\n",
        "sort_array2d_axis1 = np.sort(array2d, axis=1)\n",
        "print('칼럼 방향으로 정렬:\\n', sort_array2d_axis1)"
      ],
      "metadata": {
        "id": "quZWuLtsC92C"
      },
      "execution_count": null,
      "outputs": []
    },
    {
      "cell_type": "code",
      "source": [
        "org_array = np.array([ 3, 1, 9, 6])\n",
        "sort_indices = np.argsort(org_array)\n",
        "print(type(sort_indices))\n",
        "print('행렬 정렬 시 원본 행렬의 인덱스:', sort_indices)"
      ],
      "metadata": {
        "id": "yWtxq9gwDTV9"
      },
      "execution_count": null,
      "outputs": []
    },
    {
      "cell_type": "code",
      "source": [
        "org_array = np.array([ 3, 1, 9, 5])\n",
        "sort_indices_desc = np.argsort(org_array)[::-1]\n",
        "print('행렬 내림차순 정렬 시 원본 행렬의 인덱스:', sort_indices_desc)"
      ],
      "metadata": {
        "id": "BtNbDhk2DRY9"
      },
      "execution_count": null,
      "outputs": []
    },
    {
      "cell_type": "code",
      "source": [
        "import numpy as np\n",
        "\n",
        "name_array = np.array(['John', 'Mike', 'Sarah', 'Kate', 'Samuel'])\n",
        "score_array=np.array([78, 95, 84, 98, 88])\n",
        "\n",
        "sort_indices_asc = np.argsort(score_array)\n",
        "print('성적 오름차순 정렬 시 score_array의 인덱스:', sort_indices_asc)\n",
        "print('성적 오름차순으로 name_array의 이름 출력:', name_array[sort_indices_asc])"
      ],
      "metadata": {
        "id": "BYXYgUJIDxQY"
      },
      "execution_count": null,
      "outputs": []
    },
    {
      "cell_type": "code",
      "source": [
        "A = np.array( [[1, 2, 3],\n",
        "               [4, 5, 6]] )\n",
        "B = np.array( [[7, 8],\n",
        "               [9, 10],\n",
        "               [11, 12]] )\n",
        "dot_product = np.dot(A, B)\n",
        "print('행렬 내적 결과:\\n', dot_product)"
      ],
      "metadata": {
        "id": "w4qJMkuPEKou"
      },
      "execution_count": null,
      "outputs": []
    },
    {
      "cell_type": "code",
      "source": [
        "A = np.array([[1, 2],\n",
        "              [3, 4]])\n",
        "transpose_mat = np.transpose(A)\n",
        "print('A의 전치 행렬:\\n', transpose_mat)"
      ],
      "metadata": {
        "id": "LetN7NEjEhUl"
      },
      "execution_count": null,
      "outputs": []
    }
  ]
}